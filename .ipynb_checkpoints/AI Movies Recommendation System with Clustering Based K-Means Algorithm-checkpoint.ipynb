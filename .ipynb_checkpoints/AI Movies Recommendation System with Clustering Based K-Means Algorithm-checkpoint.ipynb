{
 "cells": [
  {
   "cell_type": "markdown",
   "metadata": {
    "colab_type": "text",
    "id": "oDBo1ptFrus2"
   },
   "source": [
    "<h1 style = \"\">AI Movies Recommendation System Based on K-Means Clustering Algorithm"
   ]
  },
  {
   "cell_type": "markdown",
   "metadata": {},
   "source": [
    "## Overview of Article"
   ]
  },
  {
   "cell_type": "markdown",
   "metadata": {},
   "source": [
    "In this article, we'll build an artificial intelligence movies recommendation system by using k-means algorithm which is a clustering algorithm. We'll recommend movies to users which are more relevant to them based on their previeous history. We'll only import those data, where users has rated movies 4+ as we want to recommend only those movies which users like most. In this whole article, we have used Python programming language with their associated liabraries i.e. NumPy, Pandas, Matplotlib and Scikit-Learn. Moreover, we have supposed that the reader has familiarity with Python and the aforementioned liabraries."
   ]
  },
  {
   "cell_type": "markdown",
   "metadata": {},
   "source": [
    "## Introduction to AI Movies Recommendation System"
   ]
  },
  {
   "cell_type": "markdown",
   "metadata": {},
   "source": [
    "In this busy life as people don't have time to search for their desired item and even they want it on their table or even in a little effort. So, the recommendation system has become an important part to help them to make a right choice for their desired thing and to grow our product. Since data is increasing day by day and in this era with such a large database, it has even become a difficult task to find a more relevant item of our interest, because often we can't search an item of our interest with just a title and even sometime it is harder. So, recommendation system help us to provide a most relevant item to individual available in our database. \n",
    "\n",
    "In this article, we'll build a movies recommendation system. Movies recommendation system has become an essential part to movies website because an individual don't know which movies are more interested to him with just a title or genre. Sometime an individual likes action movies but he/she will not always like every action movie. To handle this problem, many authors has provided a better way to recommend a movie to user 1 from the watchlist or favourit movies of another user 2 whose movies database is more relevant to the user 1. That is, if the tast of two people is same, then both of them will like each other favourit food. Many tech giants has been using these recommendation system in their applications like YouTube, Netflix, etc.\n",
    "\n",
    "In this task, machine learning (ML) models has helped us a lot to build such recommendation system based on users previous watch history. ML models learns from users watch history and categorize them into groups which contain users of same taste. Different types of ML models has been used like clustering algorithms, deep learning models etc."
   ]
  },
  {
   "cell_type": "markdown",
   "metadata": {},
   "source": [
    "## K-Means Clustering Algorithm"
   ]
  },
  {
   "cell_type": "markdown",
   "metadata": {},
   "source": [
    "K-Means is an unsupervised machine learning algorithm which can be used to categroize data into different groups. In this article we'll use this algorithm to categorize users based on their 4+ ratings on movies. I'll not describe the background mathematics of this algorithm but I'll describe little intuition of this algorithm. If you want to understand the mathematical background of this algorithm, then I'll suggest you to search it on Google, many authors has written articles on its mathematical background. Since, the complete mathematics behind this algorithm has been done by **Scikit-Learn** liabrary so, we will only understand and implement it."
   ]
  },
  {
   "cell_type": "markdown",
   "metadata": {},
   "source": [
    "<p style=\"color: red\">Note: Plots of data in this section are designed randomly and only for intitution of K-means algorithm.</p>"
   ]
  },
  {
   "cell_type": "markdown",
   "metadata": {},
   "source": [
    "<div style='width: 50%; float:left;'>\n",
    "    Suppose that we have 2-dimensional data in the form of $(x_1, x_2)$. Let, we have plotted our data in <b>Figure (1)</b>. Next we want to divide this data into groups. If we take a look at data, then we can observe that this data can be divided into three groups. In this plot which is only designed for intuition, a common man can observe that we can divide into three groups. But some times we have very complex and big data or some time we have 3-dimensional or 4-dimensional or more generally we can have 100 dimensions or 1000 or even more than this. Then, it is not possible for human to categorize such type of data and even we can't plot such a higher dimensional data. Also, sometimes we don't know theoptimal number of clusters we should have for our data. So, we use some clustering algorithms which can work for such big data which can even of thousands of dimensions and their are methods which can be used to know the optimal of clusters.\n",
    "</div>\n",
    "<div style='width: 50%; float:right; text-align: center;'>\n",
    "    <figure>\n",
    "        <img src=\"./Article Data/Figures/Scatter Plot Before K-Means.jpg\" width = \"300px\">\n",
    "        <figcaption> Figure 1 - Scatter Plot Before K-Means Clustering</figcaption>\n",
    "    </figure>\n",
    "</div>"
   ]
  },
  {
   "cell_type": "markdown",
   "metadata": {},
   "source": [
    "<div style='width: 50%; float:left; text-align: center;'>\n",
    "    <figure>\n",
    "        <img src=\"./Article Data/Figures/Scatter Plot After K-Means.jpg\" width = \"300px\">\n",
    "        <figcaption> Figure 2 - Scatter Plot After K-Means Clustering</figcaption>\n",
    "    </figure>\n",
    "</div>\n",
    "<div style='width: 50%; float:right; position: relative; top: 100px'>\n",
    "    In <b>Figure (2)</b>, a demonstration of k-means clustering is shown. The data of Figure (1) has categorized into three groups and presented in the Figure (2) with a unique color for each group.\n",
    "</div>"
   ]
  },
  {
   "cell_type": "markdown",
   "metadata": {},
   "source": [
    "**One can arise a question, how actually k-means worked to categorize the data?**"
   ]
  },
  {
   "cell_type": "markdown",
   "metadata": {},
   "source": [
    "To categorize data into groups which contain same type of items/data, there are 6 steps which k-means algorithm follow. <b>Figure (3)</b> is presenting the steps which k-means algorithm follow to categorize data."
   ]
  },
  {
   "cell_type": "markdown",
   "metadata": {},
   "source": [
    "<div style='float:left; width: 50%; margin-top: 50px; padding-right: 10px'>\n",
    "    Figure (3) is describing the following steps of k-means algorithm. \n",
    "    <ol>\n",
    "        <li>Firstly, we have to select the numbers of clusters which we want for our dataset. Later, an <b>elbow method</b> will be explained for selection of optimal number of clusters.</li>\n",
    "        <li>Then, we have to select k random points called centroid which are not necessary from our dataset. Because to avoid random initialization trap which can stuck us to bad clusters, we'll use <b>k-means++</b> to initalize k centroids and it is provided by Scikit-Learn in k-means algorithm.</li>\n",
    "        <li>K-means algorithm will assign each data point to its closest centroid which will finally gives us k clusters.</li>\n",
    "        <li>The centroid will be re-center to a position which is now actually the centroid of its own cluster and will be new centroid.</li>\n",
    "        <li>It will reset all clusters and again assign each dataset point to its new closest centroid.</li>\n",
    "        <li>If, the new clusters are same as the previous cluster was OR total iterations has completed then it will be stop and gives us the final clusters of our dataset. Else, It will move again to step 4.</li>\n",
    "    </ol> \n",
    "</div>\n",
    "<div style='float:right; width: 50%; text-align: center;'>\n",
    "    <figure>\n",
    "        <img src=\"./Article Data/Figures/Graphical Abstract Of K-Means Algorithm.jpg\">\n",
    "        <figcaption> Figure 3 - Graphical Abstract of K-Means Algorithm</figcaption>\n",
    "    </figure>\n",
    "</div>"
   ]
  },
  {
   "cell_type": "markdown",
   "metadata": {},
   "source": [
    "### Elbow Method"
   ]
  },
  {
   "cell_type": "markdown",
   "metadata": {},
   "source": [
    "The elbow method is the best way to find optimal number of clusters. For this, we need to find **within clusters sum of squares (WCSS)**. WCSS is the sum of squares of each point distance from its centroid and its mathematical formula is following\n",
    "$$\n",
    "    WCSS = \\sum^K_{i=1} \\sum_{j=1}^{N_i} \\text{distance}(P_{\\{i,j\\}}, C_i)^2\n",
    "$$\n",
    "Where $K$ is total number of clusters, $N_i$ is the size of $i$'th cluster or we can also say that data points in $i$'th cluster, $C_i$ is the centroid of $i$'th cluster and $P_{\\{i,j\\}}$ is the $j$'th data point of $i$'th cluster."
   ]
  },
  {
   "cell_type": "markdown",
   "metadata": {},
   "source": [
    "**So, what we'll do with WCSS?**\n",
    "\n",
    "WCSS will tells us how far are centroid from its data points. As we increase number of clusters, WCSS will become small and after some value of $K$ the WCSS will reduce slowly we will stop there and choose optimal number of clusters. I'll suggest to Google for elbow method and take a look at more clear examples of elbow method. Here we have figure for intuition of elbow method."
   ]
  },
  {
   "cell_type": "markdown",
   "metadata": {},
   "source": [
    "<div style='float:left; width: 40%; margin-top: 50px; padding-right: 10px'>\n",
    "A demonstration of elbow method is show in <b>Figure (4)</b>. As we can observe that, when number of clusters $K$ moves from $1$ to $5$ then WCSS value decreases rapidly from $2500$ to $400$ approx. But, for clusters number $6$ to onward it is decreasing slowly. So, here we can make a judgment that it is good for our dataset if we have $5$ cluster. Further, as we can see its look like an elbow, the joint elbow will be the optimal number of clusters which is in this case is $5$. Later we'll see that we don't have always such a smooth curve so in this work I have described another way to observe changes in WCSS and to know optimal clusters.\n",
    "</div>\n",
    "<div style='float:right; width: 60%; text-align: center;'>\n",
    "    <figure>\n",
    "        <img src=\"./Article Data/Figures/Elbow Method Plot.png\">\n",
    "        <figcaption> Figure 4 - Elbow Method Plot</figcaption>\n",
    "    </figure>\n",
    "</div>"
   ]
  },
  {
   "cell_type": "markdown",
   "metadata": {},
   "source": [
    "## Methodology Used in this Article"
   ]
  },
  {
   "cell_type": "markdown",
   "metadata": {},
   "source": [
    " In this article, we'll build a clustering based algorithm to categorize users into groups of same interest by using **k-means** algorithm. We will use data, where users has rated movies with 4+ rating on the supposition of that, if a user is rating a movie 4+ then he/she may like it. We have downloaded database <a href=\"https://www.kaggle.com/rounakbanik/the-movies-dataset?select=ratings.csv\" target='_blank'>The Movies Dataset</a> from Kaggle.com which is a MovieLens Dataset. In the following sections, we have completely described the whole project, from **Importing Dataset -> Data Engineering -> Building K-Means Clustering Model -> Analyzing Optimal Number of Clusters -> Trainig Model and Predicting -> Fixing Clusters -> Saving Trainings -> Finally, Making Recommendations for Users**. A complete project of movies recommendation system can be downloaded from my GitHub Liabrary <a href=\"https://github.com/asdkazmi/AI-Movies-Recommendation-System-K-Means-Clustering\" style=\"font-weight: bold\" target='_blank'>AI Movies Recommendation System Based on K-means Clustering Algorithm</a>"
   ]
  },
  {
   "cell_type": "markdown",
   "metadata": {},
   "source": [
    "## This Cell is used for Styling of Notebook"
   ]
  },
  {
   "cell_type": "code",
   "execution_count": 1,
   "metadata": {},
   "outputs": [
    {
     "data": {
      "text/html": [
       "<style>\n",
       ".output_subarea {\n",
       "    background: #fafafa;\n",
       "    border: 1px solid #eeeeee;\n",
       "    border-radius: 3px;\n",
       "}\n",
       "table.dataframe {\n",
       "    margin-right: auto !important;             \n",
       "    margin-left: auto !important;\n",
       "    border: 1px solid #747474;\n",
       "    box-shadow: 0px 0px 2px 1px #9d9d9d;}\n",
       "\n",
       "table.dataframe tr {\n",
       "    height: 30px !important;\n",
       "    background: #dfdfdf !IMPORTANT;\n",
       "}\n",
       "\n",
       "table.dataframe td {\n",
       "    text-align: center;\n",
       "}\n",
       "\n",
       "table.dataframe tr:nth-child(even) {\n",
       "    background: #cbcaca !IMPORTANT;\n",
       "}\n",
       "\n",
       "table.dataframe thead tr {\n",
       "    text-align: center !important;\n",
       "    background: #686868 !important;\n",
       "    color: white;\n",
       "}\n",
       "</style>\n"
      ],
      "text/plain": [
       "<IPython.core.display.HTML object>"
      ]
     },
     "metadata": {},
     "output_type": "display_data"
    }
   ],
   "source": [
    "%%html\n",
    "<style>\n",
    ".output_subarea {\n",
    "    background: #fafafa;\n",
    "    border: 1px solid #eeeeee;\n",
    "    border-radius: 3px;\n",
    "}\n",
    "table.dataframe {\n",
    "    margin-right: auto !important;             \n",
    "    margin-left: auto !important;\n",
    "    border: 1px solid #747474;\n",
    "    box-shadow: 0px 0px 2px 1px #9d9d9d;}\n",
    "\n",
    "table.dataframe tr {\n",
    "    height: 30px !important;\n",
    "    background: #dfdfdf !IMPORTANT;\n",
    "}\n",
    "\n",
    "table.dataframe td {\n",
    "    text-align: center;\n",
    "}\n",
    "\n",
    "table.dataframe tr:nth-child(even) {\n",
    "    background: #cbcaca !IMPORTANT;\n",
    "}\n",
    "\n",
    "table.dataframe thead tr {\n",
    "    text-align: center !important;\n",
    "    background: #686868 !important;\n",
    "    color: white;\n",
    "}\n",
    "</style>"
   ]
  },
  {
   "cell_type": "markdown",
   "metadata": {
    "colab_type": "text",
    "id": "jCfqaJIJrutF"
   },
   "source": [
    "## Importing All Required Liabraries"
   ]
  },
  {
   "cell_type": "code",
   "execution_count": 2,
   "metadata": {
    "colab": {},
    "colab_type": "code",
    "executionInfo": {
     "elapsed": 3745,
     "status": "ok",
     "timestamp": 1597420628587,
     "user": {
      "displayName": "Syed Muhammad Asad",
      "photoUrl": "https://lh3.googleusercontent.com/-fB2ssjtxx5A/AAAAAAAAAAI/AAAAAAAABn4/leYKxTW8Cqs/s64/photo.jpg",
      "userId": "01049030658086144010"
     },
     "user_tz": -300
    },
    "id": "eucyGUOMrutO"
   },
   "outputs": [
    {
     "name": "stdout",
     "output_type": "stream",
     "text": [
      "Pandas version:  0.25.1\n",
      "NumPy version:  1.16.5\n",
      "Matplotlib version:  3.1.1\n",
      "Scikit-Learn version:  0.21.3\n",
      "Pickle version:  4.0\n",
      "Sys version:  3.7.4\n"
     ]
    }
   ],
   "source": [
    "import pandas as pd\n",
    "print('Pandas version: ', pd.__version__)\n",
    "\n",
    "import numpy as np\n",
    "print('NumPy version: ', np.__version__)\n",
    "\n",
    "import matplotlib\n",
    "print('Matplotlib version: ', matplotlib.__version__)\n",
    "\n",
    "from matplotlib import pyplot as plt\n",
    "\n",
    "import sklearn\n",
    "print('Scikit-Learn version: ', sklearn.__version__)\n",
    "\n",
    "from sklearn.feature_extraction.text import CountVectorizer\n",
    "\n",
    "from sklearn.cluster import KMeans\n",
    "\n",
    "\n",
    "import pickle\n",
    "print('Pickle version: ', pickle.format_version)\n",
    "\n",
    "import sys\n",
    "print('Sys version: ', sys.version[0:5])\n",
    "\n",
    "from sys import exc_info\n",
    "\n",
    "import ast"
   ]
  },
  {
   "cell_type": "markdown",
   "metadata": {
    "colab_type": "text",
    "id": "K31ulquLruv_"
   },
   "source": [
    "<h4 style=\"color:red\">Only for testing"
   ]
  },
  {
   "cell_type": "code",
   "execution_count": 3,
   "metadata": {
    "colab": {},
    "colab_type": "code",
    "executionInfo": {
     "elapsed": 3319,
     "status": "ok",
     "timestamp": 1597420638604,
     "user": {
      "displayName": "Syed Muhammad Asad",
      "photoUrl": "https://lh3.googleusercontent.com/-fB2ssjtxx5A/AAAAAAAAAAI/AAAAAAAABn4/leYKxTW8Cqs/s64/photo.jpg",
      "userId": "01049030658086144010"
     },
     "user_tz": -300
    },
    "id": "ffPnLJs4ruwD"
   },
   "outputs": [],
   "source": [
    "import time"
   ]
  },
  {
   "cell_type": "markdown",
   "metadata": {},
   "source": [
    "## Data Engineering"
   ]
  },
  {
   "cell_type": "markdown",
   "metadata": {},
   "source": [
    "This section is divided into two subsections. Firstly, we will import data and reduce it into a sub dataframe, so that we can focus more on our model and can look what type users has rated movies and what type of recommendation for him based on that. Secondly, we'll perform feature engineering so that we have data in the form which is valid for machine learning algorithm."
   ]
  },
  {
   "cell_type": "markdown",
   "metadata": {
    "colab_type": "text",
    "id": "mSXrFgGzruwg"
   },
   "source": [
    "### Prepairing Data for Model"
   ]
  },
  {
   "cell_type": "markdown",
   "metadata": {},
   "source": [
    "We have downloaded MovieLens Dataset from Kaggle.com. Here first we'll import rating dataset, because we want users rating on movies and further we'll filter data where users has gives 4+ ratings"
   ]
  },
  {
   "cell_type": "code",
   "execution_count": 4,
   "metadata": {
    "scrolled": false
   },
   "outputs": [
    {
     "name": "stdout",
     "output_type": "stream",
     "text": [
      "Shape of ratings dataset is:  (26024289, 3) \n",
      "\n",
      "Max values in dataset are \n",
      " userId     270896.0\n",
      "movieId    176275.0\n",
      "rating          5.0\n",
      "dtype: float64 \n",
      "\n",
      "Min values in dataset are \n",
      " userId     1.0\n",
      "movieId    1.0\n",
      "rating     0.5\n",
      "dtype: float64 \n",
      "\n"
     ]
    }
   ],
   "source": [
    "ratings = pd.read_csv('./Prepairing Data/From Data/ratings.csv', usecols = ['userId', 'movieId','rating'])\n",
    "print('Shape of ratings dataset is: ',ratings.shape, '\\n')\n",
    "print('Max values in dataset are \\n',ratings.max(), '\\n')\n",
    "print('Min values in dataset are \\n',ratings.min(), '\\n')"
   ]
  },
  {
   "cell_type": "markdown",
   "metadata": {},
   "source": [
    "Next we'll filter this dataset for only 4+ ratings"
   ]
  },
  {
   "cell_type": "code",
   "execution_count": 5,
   "metadata": {},
   "outputs": [
    {
     "name": "stdout",
     "output_type": "stream",
     "text": [
      "Shape of ratings dataset is:  (12981742, 3) \n",
      "\n",
      "Max values in dataset are \n",
      " userId     270896.0\n",
      "movieId    176271.0\n",
      "rating          5.0\n",
      "dtype: float64 \n",
      "\n",
      "Min values in dataset are \n",
      " userId     1.0\n",
      "movieId    1.0\n",
      "rating     4.0\n",
      "dtype: float64 \n",
      "\n"
     ]
    }
   ],
   "source": [
    "# Filtering data for only 4+ ratings\n",
    "ratings = ratings[ratings['rating'] >= 4.0]\n",
    "print('Shape of ratings dataset is: ',ratings.shape, '\\n')\n",
    "print('Max values in dataset are \\n',ratings.max(), '\\n')\n",
    "print('Min values in dataset are \\n',ratings.min(), '\\n')"
   ]
  },
  {
   "cell_type": "markdown",
   "metadata": {},
   "source": [
    "So, now minimum rating given by users is 4.0 and also data set has reduced from $2.6e^7$ to $1.2e^7$ which is less than half of the original dataset. But dataset is still large and we want to reduce it more."
   ]
  },
  {
   "cell_type": "markdown",
   "metadata": {},
   "source": [
    "For the intution of this article, I want to work on a small dataset. So, now we will get a subset of this dataset for only first 200 movies. Later when we will reduce it further for first 100 users, then we'll may have less than 200 movies which has been rated by users and we want to work around 100 movies."
   ]
  },
  {
   "cell_type": "code",
   "execution_count": 6,
   "metadata": {},
   "outputs": [
    {
     "name": "stdout",
     "output_type": "stream",
     "text": [
      "Shape of ratings dataset is:  (776269, 3) \n",
      "\n",
      "Max values in dataset are \n",
      " userId     270896.0\n",
      "movieId       201.0\n",
      "rating          5.0\n",
      "dtype: float64 \n",
      "\n",
      "Min values in dataset are \n",
      " userId     1.0\n",
      "movieId    1.0\n",
      "rating     4.0\n",
      "dtype: float64 \n",
      "\n"
     ]
    }
   ],
   "source": [
    "movies_list = np.unique(ratings['movieId'])[:200]\n",
    "ratings = ratings.loc[ratings['movieId'].isin(movies_list)]\n",
    "print('Shape of ratings dataset is: ',ratings.shape, '\\n')\n",
    "print('Max values in dataset are \\n',ratings.max(), '\\n')\n",
    "print('Min values in dataset are \\n',ratings.min(), '\\n')"
   ]
  },
  {
   "cell_type": "markdown",
   "metadata": {},
   "source": [
    "Still the dataset is large, so we again get another subset of ratings by extracting it for not all users but some users i.e. for 100 users."
   ]
  },
  {
   "cell_type": "code",
   "execution_count": 7,
   "metadata": {},
   "outputs": [
    {
     "name": "stdout",
     "output_type": "stream",
     "text": [
      "Shape of ratings dataset is:  (447, 3) \n",
      "\n",
      "Max values in dataset are \n",
      " userId     157.0\n",
      "movieId    198.0\n",
      "rating       5.0\n",
      "dtype: float64 \n",
      "\n",
      "Min values in dataset are \n",
      " userId     1.0\n",
      "movieId    1.0\n",
      "rating     4.0\n",
      "dtype: float64 \n",
      "\n",
      "Total Users:  100\n",
      "Total Movies which are rated by 100 users:  83\n"
     ]
    }
   ],
   "source": [
    "users_list = np.unique(ratings['userId'])[:100]\n",
    "ratings = ratings.loc[ratings['userId'].isin(users_list)]\n",
    "print('Shape of ratings dataset is: ',ratings.shape, '\\n')\n",
    "print('Max values in dataset are \\n',ratings.max(), '\\n')\n",
    "print('Min values in dataset are \\n',ratings.min(), '\\n')\n",
    "print('Total Users: ', np.unique(ratings['userId']).shape[0])\n",
    "print('Total Movies which are rated by 100 users: ', np.unique(ratings['movieId']).shape[0])"
   ]
  },
  {
   "cell_type": "markdown",
   "metadata": {},
   "source": [
    "And finally, its done. We have a dataset of shape (447,3) which inlcudes 4+ ratings of 83 movies by 100 users. As we were started with 100 movies but when we extracted it for only first 100 users, it looks like that the movies from 84-200 were not rated by first 100 users."
   ]
  },
  {
   "cell_type": "markdown",
   "metadata": {},
   "source": [
    "As, now we are not worried for ratings column and further we have supposed that each movie which is rated 4+ by user is of his/her interest. So, if a movie is an interest of user 1 then that movie will also be interest of another user 2 of same taste. Now, we can drop this column as each movie is a fovourite for every user."
   ]
  },
  {
   "cell_type": "code",
   "execution_count": 8,
   "metadata": {},
   "outputs": [],
   "source": [
    "users_fav_movies = ratings.loc[:, ['userId', 'movieId']]"
   ]
  },
  {
   "cell_type": "markdown",
   "metadata": {},
   "source": [
    "Since we were sorted dataframe by columns, so index may not be in proper order. Now, we want to reset the index."
   ]
  },
  {
   "cell_type": "code",
   "execution_count": 9,
   "metadata": {},
   "outputs": [],
   "source": [
    "users_fav_movies = ratings.reset_index(drop = True)"
   ]
  },
  {
   "cell_type": "markdown",
   "metadata": {},
   "source": [
    "And finally, here is our final dataframe of first 100 users favourite movies from the list of first 200 movies. The below dataframe is printed with transpose"
   ]
  },
  {
   "cell_type": "code",
   "execution_count": 10,
   "metadata": {},
   "outputs": [
    {
     "data": {
      "text/html": [
       "<div>\n",
       "<style scoped>\n",
       "    .dataframe tbody tr th:only-of-type {\n",
       "        vertical-align: middle;\n",
       "    }\n",
       "\n",
       "    .dataframe tbody tr th {\n",
       "        vertical-align: top;\n",
       "    }\n",
       "\n",
       "    .dataframe thead th {\n",
       "        text-align: right;\n",
       "    }\n",
       "</style>\n",
       "<table border=\"1\" class=\"dataframe\">\n",
       "  <thead>\n",
       "    <tr style=\"text-align: right;\">\n",
       "      <th></th>\n",
       "      <th>0</th>\n",
       "      <th>1</th>\n",
       "      <th>2</th>\n",
       "      <th>3</th>\n",
       "      <th>4</th>\n",
       "      <th>5</th>\n",
       "      <th>6</th>\n",
       "      <th>7</th>\n",
       "      <th>8</th>\n",
       "      <th>9</th>\n",
       "      <th>...</th>\n",
       "      <th>437</th>\n",
       "      <th>438</th>\n",
       "      <th>439</th>\n",
       "      <th>440</th>\n",
       "      <th>441</th>\n",
       "      <th>442</th>\n",
       "      <th>443</th>\n",
       "      <th>444</th>\n",
       "      <th>445</th>\n",
       "      <th>446</th>\n",
       "    </tr>\n",
       "  </thead>\n",
       "  <tbody>\n",
       "    <tr>\n",
       "      <td>userId</td>\n",
       "      <td>1.0</td>\n",
       "      <td>2.0</td>\n",
       "      <td>2.0</td>\n",
       "      <td>8.0</td>\n",
       "      <td>8.0</td>\n",
       "      <td>9.0</td>\n",
       "      <td>9.0</td>\n",
       "      <td>10.0</td>\n",
       "      <td>10.0</td>\n",
       "      <td>11.0</td>\n",
       "      <td>...</td>\n",
       "      <td>153.0</td>\n",
       "      <td>153.0</td>\n",
       "      <td>155.0</td>\n",
       "      <td>155.0</td>\n",
       "      <td>156.0</td>\n",
       "      <td>156.0</td>\n",
       "      <td>156.0</td>\n",
       "      <td>156.0</td>\n",
       "      <td>156.0</td>\n",
       "      <td>157.0</td>\n",
       "    </tr>\n",
       "    <tr>\n",
       "      <td>movieId</td>\n",
       "      <td>147.0</td>\n",
       "      <td>64.0</td>\n",
       "      <td>79.0</td>\n",
       "      <td>1.0</td>\n",
       "      <td>47.0</td>\n",
       "      <td>1.0</td>\n",
       "      <td>150.0</td>\n",
       "      <td>150.0</td>\n",
       "      <td>165.0</td>\n",
       "      <td>34.0</td>\n",
       "      <td>...</td>\n",
       "      <td>175.0</td>\n",
       "      <td>198.0</td>\n",
       "      <td>32.0</td>\n",
       "      <td>107.0</td>\n",
       "      <td>17.0</td>\n",
       "      <td>25.0</td>\n",
       "      <td>36.0</td>\n",
       "      <td>58.0</td>\n",
       "      <td>80.0</td>\n",
       "      <td>111.0</td>\n",
       "    </tr>\n",
       "    <tr>\n",
       "      <td>rating</td>\n",
       "      <td>4.5</td>\n",
       "      <td>4.0</td>\n",
       "      <td>4.0</td>\n",
       "      <td>4.0</td>\n",
       "      <td>4.0</td>\n",
       "      <td>4.5</td>\n",
       "      <td>4.0</td>\n",
       "      <td>4.0</td>\n",
       "      <td>4.0</td>\n",
       "      <td>4.0</td>\n",
       "      <td>...</td>\n",
       "      <td>4.5</td>\n",
       "      <td>4.0</td>\n",
       "      <td>4.5</td>\n",
       "      <td>5.0</td>\n",
       "      <td>4.0</td>\n",
       "      <td>5.0</td>\n",
       "      <td>5.0</td>\n",
       "      <td>5.0</td>\n",
       "      <td>4.0</td>\n",
       "      <td>4.0</td>\n",
       "    </tr>\n",
       "  </tbody>\n",
       "</table>\n",
       "<p>3 rows × 447 columns</p>\n",
       "</div>"
      ],
      "text/plain": [
       "           0     1     2    3     4    5      6      7      8     9    ...  \\\n",
       "userId     1.0   2.0   2.0  8.0   8.0  9.0    9.0   10.0   10.0  11.0  ...   \n",
       "movieId  147.0  64.0  79.0  1.0  47.0  1.0  150.0  150.0  165.0  34.0  ...   \n",
       "rating     4.5   4.0   4.0  4.0   4.0  4.5    4.0    4.0    4.0   4.0  ...   \n",
       "\n",
       "           437    438    439    440    441    442    443    444    445    446  \n",
       "userId   153.0  153.0  155.0  155.0  156.0  156.0  156.0  156.0  156.0  157.0  \n",
       "movieId  175.0  198.0   32.0  107.0   17.0   25.0   36.0   58.0   80.0  111.0  \n",
       "rating     4.5    4.0    4.5    5.0    4.0    5.0    5.0    5.0    4.0    4.0  \n",
       "\n",
       "[3 rows x 447 columns]"
      ]
     },
     "execution_count": 10,
     "metadata": {},
     "output_type": "execute_result"
    }
   ],
   "source": [
    "users_fav_movies.T"
   ]
  },
  {
   "cell_type": "markdown",
   "metadata": {},
   "source": [
    "Now, let save this dataframe to csv file on our local"
   ]
  },
  {
   "cell_type": "code",
   "execution_count": 11,
   "metadata": {},
   "outputs": [],
   "source": [
    "users_fav_movies.to_csv('./Prepairing Data/From Data/filtered_ratings.csv')"
   ]
  },
  {
   "cell_type": "markdown",
   "metadata": {
    "colab_type": "text",
    "id": "sd5PoLV3ruxk"
   },
   "source": [
    "# Data Featuring"
   ]
  },
  {
   "cell_type": "markdown",
   "metadata": {
    "colab_type": "text",
    "id": "Tzjd-yVMruyM"
   },
   "source": [
    "In this section, we will create a sparse matrix which we'll use in k-means. For this, let define a function which return us a movies list for each user from dataset"
   ]
  },
  {
   "cell_type": "code",
   "execution_count": 12,
   "metadata": {
    "colab": {},
    "colab_type": "code",
    "id": "yff42q1ZruyV"
   },
   "outputs": [],
   "source": [
    "def moviesListForUsers(users, users_data):\n",
    "    # users = a list of users IDs\n",
    "    # users_data = a dataframe of users favourite movies or users watched movies\n",
    "    users_movies_list = []\n",
    "    for user in users:\n",
    "        users_movies_list.append(str(list(users_data[users_data['userId'] == user]['movieId'])).split('[')[1].split(']')[0])\n",
    "    return users_movies_list"
   ]
  },
  {
   "cell_type": "markdown",
   "metadata": {},
   "source": [
    "The method **moviesListForUsers** returns us a list which will contain strings for each users favourite movies list. Later we will use **CountVectorizer** to extract the features of strings which contains list of movies."
   ]
  },
  {
   "cell_type": "markdown",
   "metadata": {},
   "source": [
    "<p style='color:red'> Note: The method <b>moviesListForUsers</b> returns us list in the same order as users list. So to avoid trap, we will have users list in the descending order."
   ]
  },
  {
   "cell_type": "markdown",
   "metadata": {},
   "source": [
    "In above defined method, we need to have a list of users and users_data dataframe. As users_data is the dataframe we already have. Now, let prepair the users list"
   ]
  },
  {
   "cell_type": "code",
   "execution_count": 13,
   "metadata": {},
   "outputs": [
    {
     "name": "stdout",
     "output_type": "stream",
     "text": [
      "(100,)\n"
     ]
    }
   ],
   "source": [
    "users = np.unique(users_fav_movies['userId'])\n",
    "print(users.shape)"
   ]
  },
  {
   "cell_type": "markdown",
   "metadata": {},
   "source": [
    "Now, let prepair the list of movies list for each user."
   ]
  },
  {
   "cell_type": "code",
   "execution_count": 14,
   "metadata": {
    "colab": {},
    "colab_type": "code",
    "id": "mCNqz-x1ruzY"
   },
   "outputs": [
    {
     "name": "stdout",
     "output_type": "stream",
     "text": [
      "Movies list for 100  users\n",
      "A list of first 10 users favourite movies: \n",
      " ['147', '64, 79', '1, 47', '1, 150', '150, 165', '34', '1, 16, 17, 29, 34, 47, 50, 82, 97, 123, 125, 150, 162, 175, 176, 194', '6', '32, 50, 111, 198', '81']\n"
     ]
    }
   ],
   "source": [
    "users_movies_list = moviesListForUsers(users, users_fav_movies)\n",
    "print('Movies list for', len(users_movies_list), ' users')\n",
    "print('A list of first 10 users favourite movies: \\n', users_movies_list[:10])"
   ]
  },
  {
   "cell_type": "markdown",
   "metadata": {},
   "source": [
    "Above is the list for first 10 users favourite movies list. First string contain first users favourite movies IDs, second for second users and so on. It looks that the list of 7th users favourite movies is larger than others."
   ]
  },
  {
   "cell_type": "markdown",
   "metadata": {
    "colab_type": "text",
    "id": "xnJI94Q0ru1r"
   },
   "source": [
    "<b>Now, we'll prepair a sparse matrix for each user against each movie</b>\n",
    "<p>If user has watched movie then 1, else 0</p>\n",
    "<table class='dataframe'>\n",
    "    <thead>\n",
    "        <td></td>\n",
    "        <td>Movie 1</td>\n",
    "        <td>Movie 2</td>\n",
    "        <td>Movie 3</td>\n",
    "        <td>...</td>\n",
    "        <td>Movie N</td>\n",
    "    </thead>\n",
    "    <tr>\n",
    "        <td>User 1</td>\n",
    "        <td>1</td>\n",
    "        <td>0</td>\n",
    "        <td>1</td>\n",
    "        <td>...</td>\n",
    "        <td>1</td>\n",
    "    </tr>\n",
    "    <tr>\n",
    "        <td>User 2</td>\n",
    "        <td>0</td>\n",
    "        <td>0</td>\n",
    "        <td>1</td>\n",
    "        <td>...</td>\n",
    "        <td>0</td>\n",
    "    </tr>\n",
    "    <tr>\n",
    "        <td>User 3</td>\n",
    "        <td>1</td>\n",
    "        <td>0</td>\n",
    "        <td>0</td>\n",
    "        <td>...</td>\n",
    "        <td>0</td>\n",
    "    </tr>\n",
    "</table>"
   ]
  },
  {
   "cell_type": "markdown",
   "metadata": {
    "colab_type": "text",
    "id": "QAYYm3Ywru1y"
   },
   "source": [
    "Let us first define a function for sparse matrix"
   ]
  },
  {
   "cell_type": "code",
   "execution_count": 15,
   "metadata": {
    "colab": {},
    "colab_type": "code",
    "id": "IHOh_IBAru11"
   },
   "outputs": [],
   "source": [
    "def prepSparseMatrix(list_of_str):\n",
    "    # list_of_str = A list, which contain strings of users favourite movies separate by comma \",\".\n",
    "    # It will return us sparse matrix and feature names on which sparse matrix is defined \n",
    "    # i.e. name of movies in the same order as the column of sparse matrix\n",
    "    cv = CountVectorizer(token_pattern = r'[^\\,\\ ]+', lowercase = False)\n",
    "    sparseMatrix = cv.fit_transform(list_of_str)\n",
    "    return sparseMatrix.toarray(), cv.get_feature_names()"
   ]
  },
  {
   "cell_type": "markdown",
   "metadata": {},
   "source": [
    "Now, let prepair the sparse matrix"
   ]
  },
  {
   "cell_type": "code",
   "execution_count": 16,
   "metadata": {
    "colab": {},
    "colab_type": "code",
    "id": "Fw2LAvRXru3b"
   },
   "outputs": [],
   "source": [
    "sparseMatrix, feature_names = prepSparseMatrix(users_movies_list)"
   ]
  },
  {
   "cell_type": "markdown",
   "metadata": {},
   "source": [
    "Now let put it into dataframe to have a more clear presentation. The format will be as **columns** will presents each movie and **index** will presents users IDs"
   ]
  },
  {
   "cell_type": "code",
   "execution_count": 17,
   "metadata": {},
   "outputs": [
    {
     "data": {
      "text/html": [
       "<div>\n",
       "<style scoped>\n",
       "    .dataframe tbody tr th:only-of-type {\n",
       "        vertical-align: middle;\n",
       "    }\n",
       "\n",
       "    .dataframe tbody tr th {\n",
       "        vertical-align: top;\n",
       "    }\n",
       "\n",
       "    .dataframe thead th {\n",
       "        text-align: right;\n",
       "    }\n",
       "</style>\n",
       "<table border=\"1\" class=\"dataframe\">\n",
       "  <thead>\n",
       "    <tr style=\"text-align: right;\">\n",
       "      <th></th>\n",
       "      <th>1</th>\n",
       "      <th>10</th>\n",
       "      <th>101</th>\n",
       "      <th>104</th>\n",
       "      <th>105</th>\n",
       "      <th>107</th>\n",
       "      <th>11</th>\n",
       "      <th>110</th>\n",
       "      <th>111</th>\n",
       "      <th>112</th>\n",
       "      <th>...</th>\n",
       "      <th>79</th>\n",
       "      <th>80</th>\n",
       "      <th>81</th>\n",
       "      <th>82</th>\n",
       "      <th>86</th>\n",
       "      <th>88</th>\n",
       "      <th>89</th>\n",
       "      <th>94</th>\n",
       "      <th>95</th>\n",
       "      <th>97</th>\n",
       "    </tr>\n",
       "  </thead>\n",
       "  <tbody>\n",
       "    <tr>\n",
       "      <td>1</td>\n",
       "      <td>0</td>\n",
       "      <td>0</td>\n",
       "      <td>0</td>\n",
       "      <td>0</td>\n",
       "      <td>0</td>\n",
       "      <td>0</td>\n",
       "      <td>0</td>\n",
       "      <td>0</td>\n",
       "      <td>0</td>\n",
       "      <td>0</td>\n",
       "      <td>...</td>\n",
       "      <td>0</td>\n",
       "      <td>0</td>\n",
       "      <td>0</td>\n",
       "      <td>0</td>\n",
       "      <td>0</td>\n",
       "      <td>0</td>\n",
       "      <td>0</td>\n",
       "      <td>0</td>\n",
       "      <td>0</td>\n",
       "      <td>0</td>\n",
       "    </tr>\n",
       "    <tr>\n",
       "      <td>2</td>\n",
       "      <td>0</td>\n",
       "      <td>0</td>\n",
       "      <td>0</td>\n",
       "      <td>0</td>\n",
       "      <td>0</td>\n",
       "      <td>0</td>\n",
       "      <td>0</td>\n",
       "      <td>0</td>\n",
       "      <td>0</td>\n",
       "      <td>0</td>\n",
       "      <td>...</td>\n",
       "      <td>1</td>\n",
       "      <td>0</td>\n",
       "      <td>0</td>\n",
       "      <td>0</td>\n",
       "      <td>0</td>\n",
       "      <td>0</td>\n",
       "      <td>0</td>\n",
       "      <td>0</td>\n",
       "      <td>0</td>\n",
       "      <td>0</td>\n",
       "    </tr>\n",
       "    <tr>\n",
       "      <td>8</td>\n",
       "      <td>1</td>\n",
       "      <td>0</td>\n",
       "      <td>0</td>\n",
       "      <td>0</td>\n",
       "      <td>0</td>\n",
       "      <td>0</td>\n",
       "      <td>0</td>\n",
       "      <td>0</td>\n",
       "      <td>0</td>\n",
       "      <td>0</td>\n",
       "      <td>...</td>\n",
       "      <td>0</td>\n",
       "      <td>0</td>\n",
       "      <td>0</td>\n",
       "      <td>0</td>\n",
       "      <td>0</td>\n",
       "      <td>0</td>\n",
       "      <td>0</td>\n",
       "      <td>0</td>\n",
       "      <td>0</td>\n",
       "      <td>0</td>\n",
       "    </tr>\n",
       "    <tr>\n",
       "      <td>9</td>\n",
       "      <td>1</td>\n",
       "      <td>0</td>\n",
       "      <td>0</td>\n",
       "      <td>0</td>\n",
       "      <td>0</td>\n",
       "      <td>0</td>\n",
       "      <td>0</td>\n",
       "      <td>0</td>\n",
       "      <td>0</td>\n",
       "      <td>0</td>\n",
       "      <td>...</td>\n",
       "      <td>0</td>\n",
       "      <td>0</td>\n",
       "      <td>0</td>\n",
       "      <td>0</td>\n",
       "      <td>0</td>\n",
       "      <td>0</td>\n",
       "      <td>0</td>\n",
       "      <td>0</td>\n",
       "      <td>0</td>\n",
       "      <td>0</td>\n",
       "    </tr>\n",
       "    <tr>\n",
       "      <td>10</td>\n",
       "      <td>0</td>\n",
       "      <td>0</td>\n",
       "      <td>0</td>\n",
       "      <td>0</td>\n",
       "      <td>0</td>\n",
       "      <td>0</td>\n",
       "      <td>0</td>\n",
       "      <td>0</td>\n",
       "      <td>0</td>\n",
       "      <td>0</td>\n",
       "      <td>...</td>\n",
       "      <td>0</td>\n",
       "      <td>0</td>\n",
       "      <td>0</td>\n",
       "      <td>0</td>\n",
       "      <td>0</td>\n",
       "      <td>0</td>\n",
       "      <td>0</td>\n",
       "      <td>0</td>\n",
       "      <td>0</td>\n",
       "      <td>0</td>\n",
       "    </tr>\n",
       "    <tr>\n",
       "      <td>...</td>\n",
       "      <td>...</td>\n",
       "      <td>...</td>\n",
       "      <td>...</td>\n",
       "      <td>...</td>\n",
       "      <td>...</td>\n",
       "      <td>...</td>\n",
       "      <td>...</td>\n",
       "      <td>...</td>\n",
       "      <td>...</td>\n",
       "      <td>...</td>\n",
       "      <td>...</td>\n",
       "      <td>...</td>\n",
       "      <td>...</td>\n",
       "      <td>...</td>\n",
       "      <td>...</td>\n",
       "      <td>...</td>\n",
       "      <td>...</td>\n",
       "      <td>...</td>\n",
       "      <td>...</td>\n",
       "      <td>...</td>\n",
       "      <td>...</td>\n",
       "    </tr>\n",
       "    <tr>\n",
       "      <td>151</td>\n",
       "      <td>0</td>\n",
       "      <td>0</td>\n",
       "      <td>0</td>\n",
       "      <td>0</td>\n",
       "      <td>0</td>\n",
       "      <td>0</td>\n",
       "      <td>0</td>\n",
       "      <td>1</td>\n",
       "      <td>0</td>\n",
       "      <td>0</td>\n",
       "      <td>...</td>\n",
       "      <td>0</td>\n",
       "      <td>0</td>\n",
       "      <td>0</td>\n",
       "      <td>0</td>\n",
       "      <td>0</td>\n",
       "      <td>0</td>\n",
       "      <td>0</td>\n",
       "      <td>0</td>\n",
       "      <td>0</td>\n",
       "      <td>0</td>\n",
       "    </tr>\n",
       "    <tr>\n",
       "      <td>153</td>\n",
       "      <td>1</td>\n",
       "      <td>0</td>\n",
       "      <td>0</td>\n",
       "      <td>0</td>\n",
       "      <td>0</td>\n",
       "      <td>0</td>\n",
       "      <td>0</td>\n",
       "      <td>1</td>\n",
       "      <td>0</td>\n",
       "      <td>0</td>\n",
       "      <td>...</td>\n",
       "      <td>0</td>\n",
       "      <td>0</td>\n",
       "      <td>0</td>\n",
       "      <td>0</td>\n",
       "      <td>0</td>\n",
       "      <td>0</td>\n",
       "      <td>0</td>\n",
       "      <td>0</td>\n",
       "      <td>0</td>\n",
       "      <td>0</td>\n",
       "    </tr>\n",
       "    <tr>\n",
       "      <td>155</td>\n",
       "      <td>0</td>\n",
       "      <td>0</td>\n",
       "      <td>0</td>\n",
       "      <td>0</td>\n",
       "      <td>0</td>\n",
       "      <td>1</td>\n",
       "      <td>0</td>\n",
       "      <td>0</td>\n",
       "      <td>0</td>\n",
       "      <td>0</td>\n",
       "      <td>...</td>\n",
       "      <td>0</td>\n",
       "      <td>0</td>\n",
       "      <td>0</td>\n",
       "      <td>0</td>\n",
       "      <td>0</td>\n",
       "      <td>0</td>\n",
       "      <td>0</td>\n",
       "      <td>0</td>\n",
       "      <td>0</td>\n",
       "      <td>0</td>\n",
       "    </tr>\n",
       "    <tr>\n",
       "      <td>156</td>\n",
       "      <td>0</td>\n",
       "      <td>0</td>\n",
       "      <td>0</td>\n",
       "      <td>0</td>\n",
       "      <td>0</td>\n",
       "      <td>0</td>\n",
       "      <td>0</td>\n",
       "      <td>0</td>\n",
       "      <td>0</td>\n",
       "      <td>0</td>\n",
       "      <td>...</td>\n",
       "      <td>0</td>\n",
       "      <td>1</td>\n",
       "      <td>0</td>\n",
       "      <td>0</td>\n",
       "      <td>0</td>\n",
       "      <td>0</td>\n",
       "      <td>0</td>\n",
       "      <td>0</td>\n",
       "      <td>0</td>\n",
       "      <td>0</td>\n",
       "    </tr>\n",
       "    <tr>\n",
       "      <td>157</td>\n",
       "      <td>0</td>\n",
       "      <td>0</td>\n",
       "      <td>0</td>\n",
       "      <td>0</td>\n",
       "      <td>0</td>\n",
       "      <td>0</td>\n",
       "      <td>0</td>\n",
       "      <td>0</td>\n",
       "      <td>1</td>\n",
       "      <td>0</td>\n",
       "      <td>...</td>\n",
       "      <td>0</td>\n",
       "      <td>0</td>\n",
       "      <td>0</td>\n",
       "      <td>0</td>\n",
       "      <td>0</td>\n",
       "      <td>0</td>\n",
       "      <td>0</td>\n",
       "      <td>0</td>\n",
       "      <td>0</td>\n",
       "      <td>0</td>\n",
       "    </tr>\n",
       "  </tbody>\n",
       "</table>\n",
       "<p>100 rows × 83 columns</p>\n",
       "</div>"
      ],
      "text/plain": [
       "     1  10  101  104  105  107  11  110  111  112  ...  79  80  81  82  86  \\\n",
       "1    0   0    0    0    0    0   0    0    0    0  ...   0   0   0   0   0   \n",
       "2    0   0    0    0    0    0   0    0    0    0  ...   1   0   0   0   0   \n",
       "8    1   0    0    0    0    0   0    0    0    0  ...   0   0   0   0   0   \n",
       "9    1   0    0    0    0    0   0    0    0    0  ...   0   0   0   0   0   \n",
       "10   0   0    0    0    0    0   0    0    0    0  ...   0   0   0   0   0   \n",
       "..  ..  ..  ...  ...  ...  ...  ..  ...  ...  ...  ...  ..  ..  ..  ..  ..   \n",
       "151  0   0    0    0    0    0   0    1    0    0  ...   0   0   0   0   0   \n",
       "153  1   0    0    0    0    0   0    1    0    0  ...   0   0   0   0   0   \n",
       "155  0   0    0    0    0    1   0    0    0    0  ...   0   0   0   0   0   \n",
       "156  0   0    0    0    0    0   0    0    0    0  ...   0   1   0   0   0   \n",
       "157  0   0    0    0    0    0   0    0    1    0  ...   0   0   0   0   0   \n",
       "\n",
       "     88  89  94  95  97  \n",
       "1     0   0   0   0   0  \n",
       "2     0   0   0   0   0  \n",
       "8     0   0   0   0   0  \n",
       "9     0   0   0   0   0  \n",
       "10    0   0   0   0   0  \n",
       "..   ..  ..  ..  ..  ..  \n",
       "151   0   0   0   0   0  \n",
       "153   0   0   0   0   0  \n",
       "155   0   0   0   0   0  \n",
       "156   0   0   0   0   0  \n",
       "157   0   0   0   0   0  \n",
       "\n",
       "[100 rows x 83 columns]"
      ]
     },
     "execution_count": 17,
     "metadata": {},
     "output_type": "execute_result"
    }
   ],
   "source": [
    "df_sparseMatrix = pd.DataFrame(sparseMatrix, index = users, columns = feature_names)\n",
    "df_sparseMatrix"
   ]
  },
  {
   "cell_type": "markdown",
   "metadata": {},
   "source": [
    "Now, let make it clear that the matrix we defined above is exactly as we want it? We'll check it for some users."
   ]
  },
  {
   "cell_type": "markdown",
   "metadata": {
    "colab_type": "text",
    "id": "EeM3j8u0ru3_"
   },
   "source": [
    "Let take a look at some users favourite movies lists"
   ]
  },
  {
   "cell_type": "code",
   "execution_count": 18,
   "metadata": {
    "colab": {},
    "colab_type": "code",
    "id": "jZHWzMUZru4B",
    "outputId": "cf5c0862-d516-48e2-8ed4-9e1bb3de7f80"
   },
   "outputs": [
    {
     "data": {
      "text/html": [
       "<div>\n",
       "<style scoped>\n",
       "    .dataframe tbody tr th:only-of-type {\n",
       "        vertical-align: middle;\n",
       "    }\n",
       "\n",
       "    .dataframe tbody tr th {\n",
       "        vertical-align: top;\n",
       "    }\n",
       "\n",
       "    .dataframe thead th {\n",
       "        text-align: right;\n",
       "    }\n",
       "</style>\n",
       "<table border=\"1\" class=\"dataframe\">\n",
       "  <thead>\n",
       "    <tr style=\"text-align: right;\">\n",
       "      <th></th>\n",
       "      <th>0</th>\n",
       "      <th>1</th>\n",
       "      <th>2</th>\n",
       "      <th>3</th>\n",
       "      <th>4</th>\n",
       "      <th>5</th>\n",
       "      <th>6</th>\n",
       "      <th>7</th>\n",
       "      <th>8</th>\n",
       "      <th>9</th>\n",
       "    </tr>\n",
       "  </thead>\n",
       "  <tbody>\n",
       "    <tr>\n",
       "      <td>userId</td>\n",
       "      <td>1.0</td>\n",
       "      <td>2.0</td>\n",
       "      <td>2.0</td>\n",
       "      <td>8.0</td>\n",
       "      <td>8.0</td>\n",
       "      <td>9.0</td>\n",
       "      <td>9.0</td>\n",
       "      <td>10.0</td>\n",
       "      <td>10.0</td>\n",
       "      <td>11.0</td>\n",
       "    </tr>\n",
       "    <tr>\n",
       "      <td>movieId</td>\n",
       "      <td>147.0</td>\n",
       "      <td>64.0</td>\n",
       "      <td>79.0</td>\n",
       "      <td>1.0</td>\n",
       "      <td>47.0</td>\n",
       "      <td>1.0</td>\n",
       "      <td>150.0</td>\n",
       "      <td>150.0</td>\n",
       "      <td>165.0</td>\n",
       "      <td>34.0</td>\n",
       "    </tr>\n",
       "    <tr>\n",
       "      <td>rating</td>\n",
       "      <td>4.5</td>\n",
       "      <td>4.0</td>\n",
       "      <td>4.0</td>\n",
       "      <td>4.0</td>\n",
       "      <td>4.0</td>\n",
       "      <td>4.5</td>\n",
       "      <td>4.0</td>\n",
       "      <td>4.0</td>\n",
       "      <td>4.0</td>\n",
       "      <td>4.0</td>\n",
       "    </tr>\n",
       "  </tbody>\n",
       "</table>\n",
       "</div>"
      ],
      "text/plain": [
       "             0     1     2    3     4    5      6      7      8     9\n",
       "userId     1.0   2.0   2.0  8.0   8.0  9.0    9.0   10.0   10.0  11.0\n",
       "movieId  147.0  64.0  79.0  1.0  47.0  1.0  150.0  150.0  165.0  34.0\n",
       "rating     4.5   4.0   4.0  4.0   4.0  4.5    4.0    4.0    4.0   4.0"
      ]
     },
     "execution_count": 18,
     "metadata": {},
     "output_type": "execute_result"
    }
   ],
   "source": [
    "first_6_users_SM = users_fav_movies[users_fav_movies['userId'].isin(users[:6])].sort_values('userId')\n",
    "first_6_users_SM.T"
   ]
  },
  {
   "cell_type": "markdown",
   "metadata": {
    "colab_type": "text",
    "id": "7Jpw__I_ru4b"
   },
   "source": [
    "Now let check the that if the users with above IDs have value 1 in the column of their favourite movie and 0 otherwise. Remember that in the **sparseMatrix** dataframe **df_sparseMatrix** index are users IDs."
   ]
  },
  {
   "cell_type": "code",
   "execution_count": 19,
   "metadata": {
    "colab": {},
    "colab_type": "code",
    "id": "IhjtEWpkru4e",
    "outputId": "0d0a12f1-f474-47dc-aed3-7333dee9ae4d"
   },
   "outputs": [
    {
     "data": {
      "text/html": [
       "<div>\n",
       "<style scoped>\n",
       "    .dataframe tbody tr th:only-of-type {\n",
       "        vertical-align: middle;\n",
       "    }\n",
       "\n",
       "    .dataframe tbody tr th {\n",
       "        vertical-align: top;\n",
       "    }\n",
       "\n",
       "    .dataframe thead th {\n",
       "        text-align: right;\n",
       "    }\n",
       "</style>\n",
       "<table border=\"1\" class=\"dataframe\">\n",
       "  <thead>\n",
       "    <tr style=\"text-align: right;\">\n",
       "      <th></th>\n",
       "      <th>1</th>\n",
       "      <th>34</th>\n",
       "      <th>47</th>\n",
       "      <th>64</th>\n",
       "      <th>79</th>\n",
       "      <th>147</th>\n",
       "      <th>150</th>\n",
       "      <th>165</th>\n",
       "    </tr>\n",
       "  </thead>\n",
       "  <tbody>\n",
       "    <tr>\n",
       "      <td>1</td>\n",
       "      <td>0</td>\n",
       "      <td>0</td>\n",
       "      <td>0</td>\n",
       "      <td>0</td>\n",
       "      <td>0</td>\n",
       "      <td>1</td>\n",
       "      <td>0</td>\n",
       "      <td>0</td>\n",
       "    </tr>\n",
       "    <tr>\n",
       "      <td>2</td>\n",
       "      <td>0</td>\n",
       "      <td>0</td>\n",
       "      <td>0</td>\n",
       "      <td>1</td>\n",
       "      <td>1</td>\n",
       "      <td>0</td>\n",
       "      <td>0</td>\n",
       "      <td>0</td>\n",
       "    </tr>\n",
       "    <tr>\n",
       "      <td>8</td>\n",
       "      <td>1</td>\n",
       "      <td>0</td>\n",
       "      <td>1</td>\n",
       "      <td>0</td>\n",
       "      <td>0</td>\n",
       "      <td>0</td>\n",
       "      <td>0</td>\n",
       "      <td>0</td>\n",
       "    </tr>\n",
       "    <tr>\n",
       "      <td>9</td>\n",
       "      <td>1</td>\n",
       "      <td>0</td>\n",
       "      <td>0</td>\n",
       "      <td>0</td>\n",
       "      <td>0</td>\n",
       "      <td>0</td>\n",
       "      <td>1</td>\n",
       "      <td>0</td>\n",
       "    </tr>\n",
       "    <tr>\n",
       "      <td>10</td>\n",
       "      <td>0</td>\n",
       "      <td>0</td>\n",
       "      <td>0</td>\n",
       "      <td>0</td>\n",
       "      <td>0</td>\n",
       "      <td>0</td>\n",
       "      <td>1</td>\n",
       "      <td>1</td>\n",
       "    </tr>\n",
       "    <tr>\n",
       "      <td>11</td>\n",
       "      <td>0</td>\n",
       "      <td>1</td>\n",
       "      <td>0</td>\n",
       "      <td>0</td>\n",
       "      <td>0</td>\n",
       "      <td>0</td>\n",
       "      <td>0</td>\n",
       "      <td>0</td>\n",
       "    </tr>\n",
       "  </tbody>\n",
       "</table>\n",
       "</div>"
      ],
      "text/plain": [
       "    1  34  47  64  79  147  150  165\n",
       "1   0   0   0   0   0    1    0    0\n",
       "2   0   0   0   1   1    0    0    0\n",
       "8   1   0   1   0   0    0    0    0\n",
       "9   1   0   0   0   0    0    1    0\n",
       "10  0   0   0   0   0    0    1    1\n",
       "11  0   1   0   0   0    0    0    0"
      ]
     },
     "execution_count": 19,
     "metadata": {},
     "output_type": "execute_result"
    }
   ],
   "source": [
    "df_sparseMatrix.loc[np.unique(first_6_users_SM['userId']), list(map(str, np.unique(first_6_users_SM['movieId'])))]"
   ]
  },
  {
   "cell_type": "markdown",
   "metadata": {},
   "source": [
    "We can observe from above two dataframes that our sparse matrix is correct and have values in proper place. As, we have done with data engineering, now let create our machine learning clustering model with k-means algorithm."
   ]
  },
  {
   "cell_type": "markdown",
   "metadata": {
    "colab_type": "text",
    "id": "W_zRqndnru44"
   },
   "source": [
    "## Clustering Model"
   ]
  },
  {
   "cell_type": "markdown",
   "metadata": {
    "colab_type": "text",
    "id": "zKoqXol8ru49"
   },
   "source": [
    "To clustering the data, first of all we need to find the optimal number of clusters. For this purpose, we will define an object for elbow method which will contain two functions for run k-means algorithm for different number of clusters and showing plot."
   ]
  },
  {
   "cell_type": "code",
   "execution_count": 20,
   "metadata": {
    "colab": {},
    "colab_type": "code",
    "id": "RD3TE5arru5N"
   },
   "outputs": [],
   "source": [
    "class elbowMethod():\n",
    "    def __init__(self, sparseMatrix):\n",
    "        self.sparseMatrix = sparseMatrix\n",
    "        self.wcss = list()\n",
    "        self.differences = list()\n",
    "    def run(self, init, upto, max_iterations = 300):\n",
    "        for i in range(init, upto + 1):\n",
    "            kmeans = KMeans(n_clusters=i, init = 'k-means++', max_iter = max_iterations, n_init = 10, random_state = 0)\n",
    "            kmeans.fit(sparseMatrix)\n",
    "            self.wcss.append(kmeans.inertia_)\n",
    "        self.differences = list()\n",
    "        for i in range(len(self.wcss)-1):\n",
    "            self.differences.append(self.wcss[i] - self.wcss[i+1])\n",
    "    def showPlot(self, boundary = 500, upto_cluster = None):\n",
    "        if upto_cluster is None:\n",
    "            WCSS = self.wcss\n",
    "            DIFF = self.differences\n",
    "        else:\n",
    "            WCSS = self.wcss[:upto_cluster]\n",
    "            DIFF = self.differences[:upto_cluster - 1]\n",
    "        plt.figure(figsize=(15, 6))\n",
    "        plt.subplot(121).set_title('Elbow Method Graph')\n",
    "        plt.plot(range(1, len(WCSS) + 1), WCSS)\n",
    "        plt.grid(b = True)\n",
    "        plt.subplot(122).set_title('Differences in Each Two Consective Clusters')\n",
    "        len_differences = len(DIFF)\n",
    "        X_differences = range(1, len_differences + 1)\n",
    "        plt.plot(X_differences, DIFF)\n",
    "        plt.plot(X_differences, np.ones(len_differences)*boundary, 'r')\n",
    "        plt.plot(X_differences, np.ones(len_differences)*(-boundary), 'r')\n",
    "        plt.grid()\n",
    "        plt.show()\n",
    "        "
   ]
  },
  {
   "cell_type": "markdown",
   "metadata": {},
   "source": [
    "**Why we write elbow method in object?**\n",
    "\n",
    "As we don't know where we will get elbow i.e. optimal number of clusters, so we write it in object in such a way that the values of WCSS will be in attribute of object and we'll not lost them. As, firstly we may run elbow method for cluster number of 1-10 and later when we plot it, we may find that we don't get joint of elbow yet and we need to run it for more. So, next time we can run the same instance of object from 11-20 and so on, until we'll get joint for elbow. And thus, we'll not lost data of previous run.\n",
    "\n",
    "You may observe that in the above class method **showPlot**, I have written two plots. Yeah, here I'm going to use another strategy when we can't observe an elbow. And this is the difference between each two WCSS values and we can set a boundary for more clear observations of changing in WCSS value. That is, when the changes in WCSS value will remain inside our required boundary then we will say that we have find elbow after which changes are small. See below the plots"
   ]
  },
  {
   "cell_type": "markdown",
   "metadata": {},
   "source": [
    "<h4 style = \"color: red\">Testing [Start]"
   ]
  },
  {
   "cell_type": "code",
   "execution_count": 21,
   "metadata": {},
   "outputs": [],
   "source": [
    "# test1, test2 = elbow_method.wcss, elbow_method.differences\n",
    "# elbow_method = elbowMethod(sparseMatrix)\n",
    "# elbow_method.wcss, elbow_method.differences = test1, test2"
   ]
  },
  {
   "cell_type": "markdown",
   "metadata": {},
   "source": [
    "<h4 style = \"color: red\">Testing [End]"
   ]
  },
  {
   "cell_type": "markdown",
   "metadata": {
    "colab_type": "text",
    "id": "Pvo2dx6gru5j"
   },
   "source": [
    "Now let, first we analyze for clusters 1-10 with the boundary of 10 i.e. when the changes in WCSS value will be remain inside the boundary, we'll say that now we have find an elbow after which change is small."
   ]
  },
  {
   "cell_type": "markdown",
   "metadata": {},
   "source": [
    "Remeber that the dataframe **df_sparseMatrix** was only for prsentation of **sparseMatrix**. For the algorithm, we always use only matrix **sparseMatrix** itself.\n",
    "\n",
    "Let first create an instance of elbow method on our defined **sparseMatrix**. "
   ]
  },
  {
   "cell_type": "code",
   "execution_count": 22,
   "metadata": {},
   "outputs": [],
   "source": [
    "elbow_method = elbowMethod(sparseMatrix)"
   ]
  },
  {
   "cell_type": "markdown",
   "metadata": {},
   "source": [
    "Now, first we will run it for 1-10 number of cluster, i.e. first k-mean will run for no of clusters $k=1$, then for no. of clusters $k=2$ and so on upto no. of clusters $k=10$."
   ]
  },
  {
   "cell_type": "code",
   "execution_count": 23,
   "metadata": {},
   "outputs": [],
   "source": [
    "elbow_method.run(1, 10)"
   ]
  },
  {
   "cell_type": "code",
   "execution_count": 24,
   "metadata": {},
   "outputs": [
    {
     "data": {
      "image/png": "[encoded data removed]",
      "text/plain": [
       "<Figure size 1080x432 with 2 Axes>"
      ]
     },
     "metadata": {
      "needs_background": "light"
     },
     "output_type": "display_data"
    }
   ],
   "source": [
    "elbow_method.showPlot(boundary = 10)"
   ]
  },
  {
   "cell_type": "markdown",
   "metadata": {},
   "source": [
    "Since, we don't have any clear elbow yet and also we don't have differences inside the boundary. Now let it for cluster 11-20"
   ]
  },
  {
   "cell_type": "code",
   "execution_count": 25,
   "metadata": {},
   "outputs": [],
   "source": [
    "elbow_method.run(11, 30)"
   ]
  },
  {
   "cell_type": "code",
   "execution_count": 26,
   "metadata": {
    "scrolled": false
   },
   "outputs": [
    {
     "data": {
      "image/png": "[encoded data removed]",
      "text/plain": [
       "<Figure size 1080x432 with 2 Axes>"
      ]
     },
     "metadata": {
      "needs_background": "light"
     },
     "output_type": "display_data"
    }
   ],
   "source": [
    "elbow_method.showPlot(boundary = 10)"
   ]
  },
  {
   "cell_type": "markdown",
   "metadata": {},
   "source": [
    "**What happend?**\n",
    "\n",
    "We don't have elbow, but we have boundary in differences graph. If we look at the differences graph, we observe that after the cluster 14, the differences are almost inside the boundary. So, we will run **k-means** for clusters 15 because the 14'th difference is the difference between $k=14$ and $k=15$. Since we have done to analyze the optimal clusters $k$. Now move to fitting the model and making recommendations."
   ]
  },
  {
   "cell_type": "markdown",
   "metadata": {},
   "source": [
    "## Fitting data on Model"
   ]
  },
  {
   "cell_type": "markdown",
   "metadata": {},
   "source": [
    "Now let first create the same k-means model and run it to make predictions."
   ]
  },
  {
   "cell_type": "code",
   "execution_count": 27,
   "metadata": {},
   "outputs": [],
   "source": [
    "kmeans = KMeans(n_clusters=15, init = 'k-means++', max_iter = 300, n_init = 10, random_state = 0)\n",
    "clusters = kmeans.fit_predict(sparseMatrix)"
   ]
  },
  {
   "cell_type": "markdown",
   "metadata": {},
   "source": [
    "Now, let create a dataframe where we can see each user cluster number"
   ]
  },
  {
   "cell_type": "code",
   "execution_count": 28,
   "metadata": {
    "scrolled": false
   },
   "outputs": [
    {
     "data": {
      "text/html": [
       "<div>\n",
       "<style scoped>\n",
       "    .dataframe tbody tr th:only-of-type {\n",
       "        vertical-align: middle;\n",
       "    }\n",
       "\n",
       "    .dataframe tbody tr th {\n",
       "        vertical-align: top;\n",
       "    }\n",
       "\n",
       "    .dataframe thead th {\n",
       "        text-align: right;\n",
       "    }\n",
       "</style>\n",
       "<table border=\"1\" class=\"dataframe\">\n",
       "  <thead>\n",
       "    <tr style=\"text-align: right;\">\n",
       "      <th></th>\n",
       "      <th>0</th>\n",
       "      <th>1</th>\n",
       "      <th>2</th>\n",
       "      <th>3</th>\n",
       "      <th>4</th>\n",
       "      <th>5</th>\n",
       "      <th>6</th>\n",
       "      <th>7</th>\n",
       "      <th>8</th>\n",
       "      <th>9</th>\n",
       "      <th>...</th>\n",
       "      <th>90</th>\n",
       "      <th>91</th>\n",
       "      <th>92</th>\n",
       "      <th>93</th>\n",
       "      <th>94</th>\n",
       "      <th>95</th>\n",
       "      <th>96</th>\n",
       "      <th>97</th>\n",
       "      <th>98</th>\n",
       "      <th>99</th>\n",
       "    </tr>\n",
       "  </thead>\n",
       "  <tbody>\n",
       "    <tr>\n",
       "      <td>userId</td>\n",
       "      <td>1</td>\n",
       "      <td>2</td>\n",
       "      <td>8</td>\n",
       "      <td>9</td>\n",
       "      <td>10</td>\n",
       "      <td>11</td>\n",
       "      <td>12</td>\n",
       "      <td>15</td>\n",
       "      <td>16</td>\n",
       "      <td>18</td>\n",
       "      <td>...</td>\n",
       "      <td>134</td>\n",
       "      <td>137</td>\n",
       "      <td>142</td>\n",
       "      <td>146</td>\n",
       "      <td>150</td>\n",
       "      <td>151</td>\n",
       "      <td>153</td>\n",
       "      <td>155</td>\n",
       "      <td>156</td>\n",
       "      <td>157</td>\n",
       "    </tr>\n",
       "    <tr>\n",
       "      <td>Cluster</td>\n",
       "      <td>0</td>\n",
       "      <td>0</td>\n",
       "      <td>1</td>\n",
       "      <td>1</td>\n",
       "      <td>4</td>\n",
       "      <td>0</td>\n",
       "      <td>14</td>\n",
       "      <td>0</td>\n",
       "      <td>3</td>\n",
       "      <td>0</td>\n",
       "      <td>...</td>\n",
       "      <td>0</td>\n",
       "      <td>0</td>\n",
       "      <td>3</td>\n",
       "      <td>0</td>\n",
       "      <td>5</td>\n",
       "      <td>0</td>\n",
       "      <td>1</td>\n",
       "      <td>11</td>\n",
       "      <td>7</td>\n",
       "      <td>0</td>\n",
       "    </tr>\n",
       "  </tbody>\n",
       "</table>\n",
       "<p>2 rows × 100 columns</p>\n",
       "</div>"
      ],
      "text/plain": [
       "         0   1   2   3   4   5   6   7   8   9   ...   90   91   92   93   94  \\\n",
       "userId    1   2   8   9  10  11  12  15  16  18  ...  134  137  142  146  150   \n",
       "Cluster   0   0   1   1   4   0  14   0   3   0  ...    0    0    3    0    5   \n",
       "\n",
       "          95   96   97   98   99  \n",
       "userId   151  153  155  156  157  \n",
       "Cluster    0    1   11    7    0  \n",
       "\n",
       "[2 rows x 100 columns]"
      ]
     },
     "execution_count": 28,
     "metadata": {},
     "output_type": "execute_result"
    }
   ],
   "source": [
    "users_cluster = pd.DataFrame(np.concatenate((users.reshape(-1,1), clusters.reshape(-1,1)), axis = 1), columns = ['userId', 'Cluster'])\n",
    "users_cluster.T"
   ]
  },
  {
   "cell_type": "markdown",
   "metadata": {},
   "source": [
    "Now we'll define a function which will create a list of dataframes where each dataframe will contain the movieId and the counts for that movie (count: the number of users who has that respective movie in their favourite list). So, the movie which will have more counts will be of more interest to other users who has not watched that movie yet.\n",
    "<br>\n",
    "For Example, we'll create a list as following\n",
    "<br>\n",
    "```[dataframe_for_Cluster_1, dataframe_for_Cluster_2, ..., dataframe_for_Cluster_3]```\n",
    "<br>\n",
    "Where each dataframe will be of following format\n",
    "<table class='dataframe'>\n",
    "        <thead>\n",
    "                <td>Index</td>\n",
    "                <td>Movie ID</td>\n",
    "                <td>Count</td>\n",
    "        </thead>\n",
    "        <tr>\n",
    "                <td>0</td>\n",
    "                <td>121</td>\n",
    "                <td>100</td>\n",
    "        </tr>\n",
    "        <tr>\n",
    "                <td>1</td>\n",
    "                <td>8786</td>\n",
    "                <td>95</td>\n",
    "        </tr>\n",
    "        <tr>\n",
    "                <td>&#8942;</td>\n",
    "                <td>&#8942;</td>\n",
    "                <td>&#8942;</td>\n",
    "        </tr>\n",
    "        <tr>\n",
    "                <td>N-1</td>\n",
    "                <td>2374</td>\n",
    "                <td>1</td>\n",
    "        </tr>\n",
    "        <tr>\n",
    "                <td>N</td>\n",
    "                <td>84374</td>\n",
    "                <td>1</td>\n",
    "        </tr>\n",
    "</table>\n",
    "where 3rd column of <b>Count</b> is representing the total number of users in the cluster who have watched that particular movie. So, we will sort movies by their count in order to priortise the movie which have most seen by users in cluster and is more favourite for users in the cluster."
   ]
  },
  {
   "cell_type": "markdown",
   "metadata": {},
   "source": [
    "Now we want to create a list of all user movies in each cluster. For this, first we'll define a method for creating movies of clusters."
   ]
  },
  {
   "cell_type": "code",
   "execution_count": 29,
   "metadata": {},
   "outputs": [],
   "source": [
    "def clustersMovies(users_cluster, users_data):\n",
    "    clusters = list(users_cluster['Cluster'])\n",
    "    each_cluster_movies = list()\n",
    "    for i in range(len(np.unique(clusters))):\n",
    "        users_list = list(users_cluster[users_cluster['Cluster'] == i]['userId'])\n",
    "        users_movies_list = list()\n",
    "        for user in users_list:    \n",
    "            users_movies_list.extend(list(users_data[users_data['userId'] == user]['movieId']))\n",
    "        users_movies_counts = list()\n",
    "        users_movies_counts.extend([[movie, users_movies_list.count(movie)] for movie in np.unique(users_movies_list)])\n",
    "        each_cluster_movies.append(pd.DataFrame(users_movies_counts, columns=['movieId', 'Count']).sort_values(by = ['Count'], ascending = False).reset_index(drop=True))\n",
    "    return each_cluster_movies"
   ]
  },
  {
   "cell_type": "code",
   "execution_count": 30,
   "metadata": {},
   "outputs": [],
   "source": [
    "cluster_movies = clustersMovies(users_cluster, users_fav_movies)"
   ]
  },
  {
   "cell_type": "markdown",
   "metadata": {},
   "source": [
    "Now, let take a look at any one dataframe of **cluster_movies**. "
   ]
  },
  {
   "cell_type": "code",
   "execution_count": 31,
   "metadata": {},
   "outputs": [
    {
     "data": {
      "text/html": [
       "<div>\n",
       "<style scoped>\n",
       "    .dataframe tbody tr th:only-of-type {\n",
       "        vertical-align: middle;\n",
       "    }\n",
       "\n",
       "    .dataframe tbody tr th {\n",
       "        vertical-align: top;\n",
       "    }\n",
       "\n",
       "    .dataframe thead th {\n",
       "        text-align: right;\n",
       "    }\n",
       "</style>\n",
       "<table border=\"1\" class=\"dataframe\">\n",
       "  <thead>\n",
       "    <tr style=\"text-align: right;\">\n",
       "      <th></th>\n",
       "      <th>0</th>\n",
       "      <th>1</th>\n",
       "      <th>2</th>\n",
       "      <th>3</th>\n",
       "      <th>4</th>\n",
       "      <th>5</th>\n",
       "      <th>6</th>\n",
       "      <th>7</th>\n",
       "      <th>8</th>\n",
       "      <th>9</th>\n",
       "      <th>...</th>\n",
       "      <th>21</th>\n",
       "      <th>22</th>\n",
       "      <th>23</th>\n",
       "      <th>24</th>\n",
       "      <th>25</th>\n",
       "      <th>26</th>\n",
       "      <th>27</th>\n",
       "      <th>28</th>\n",
       "      <th>29</th>\n",
       "      <th>30</th>\n",
       "    </tr>\n",
       "  </thead>\n",
       "  <tbody>\n",
       "    <tr>\n",
       "      <td>movieId</td>\n",
       "      <td>1</td>\n",
       "      <td>150</td>\n",
       "      <td>50</td>\n",
       "      <td>47</td>\n",
       "      <td>111</td>\n",
       "      <td>6</td>\n",
       "      <td>151</td>\n",
       "      <td>70</td>\n",
       "      <td>165</td>\n",
       "      <td>32</td>\n",
       "      <td>...</td>\n",
       "      <td>95</td>\n",
       "      <td>89</td>\n",
       "      <td>2</td>\n",
       "      <td>62</td>\n",
       "      <td>41</td>\n",
       "      <td>39</td>\n",
       "      <td>36</td>\n",
       "      <td>34</td>\n",
       "      <td>22</td>\n",
       "      <td>198</td>\n",
       "    </tr>\n",
       "    <tr>\n",
       "      <td>Count</td>\n",
       "      <td>19</td>\n",
       "      <td>8</td>\n",
       "      <td>7</td>\n",
       "      <td>5</td>\n",
       "      <td>4</td>\n",
       "      <td>3</td>\n",
       "      <td>2</td>\n",
       "      <td>2</td>\n",
       "      <td>2</td>\n",
       "      <td>2</td>\n",
       "      <td>...</td>\n",
       "      <td>1</td>\n",
       "      <td>1</td>\n",
       "      <td>1</td>\n",
       "      <td>1</td>\n",
       "      <td>1</td>\n",
       "      <td>1</td>\n",
       "      <td>1</td>\n",
       "      <td>1</td>\n",
       "      <td>1</td>\n",
       "      <td>1</td>\n",
       "    </tr>\n",
       "  </tbody>\n",
       "</table>\n",
       "<p>2 rows × 31 columns</p>\n",
       "</div>"
      ],
      "text/plain": [
       "         0    1   2   3    4   5    6   7    8   9   ...  21  22  23  24  25  \\\n",
       "movieId   1  150  50  47  111   6  151  70  165  32  ...  95  89   2  62  41   \n",
       "Count    19    8   7   5    4   3    2   2    2   2  ...   1   1   1   1   1   \n",
       "\n",
       "         26  27  28  29   30  \n",
       "movieId  39  36  34  22  198  \n",
       "Count     1   1   1   1    1  \n",
       "\n",
       "[2 rows x 31 columns]"
      ]
     },
     "execution_count": 31,
     "metadata": {},
     "output_type": "execute_result"
    }
   ],
   "source": [
    "cluster_movies[1].T"
   ]
  },
  {
   "cell_type": "markdown",
   "metadata": {},
   "source": [
    "We have 30 movies in 1st cluster where movie with ID 1 is favourite by 19 users and at the top priority followed by movie ID 150 which is favourited by 8 users."
   ]
  },
  {
   "cell_type": "markdown",
   "metadata": {},
   "source": [
    "Now, let see how much users we have in each cluster"
   ]
  },
  {
   "cell_type": "code",
   "execution_count": 32,
   "metadata": {},
   "outputs": [
    {
     "name": "stdout",
     "output_type": "stream",
     "text": [
      "Users in Cluster 0 ->  35\n",
      "Users in Cluster 1 ->  19\n",
      "Users in Cluster 2 ->  1\n",
      "Users in Cluster 3 ->  5\n",
      "Users in Cluster 4 ->  8\n",
      "Users in Cluster 5 ->  1\n",
      "Users in Cluster 6 ->  12\n",
      "Users in Cluster 7 ->  2\n",
      "Users in Cluster 8 ->  1\n",
      "Users in Cluster 9 ->  1\n",
      "Users in Cluster 10 ->  1\n",
      "Users in Cluster 11 ->  11\n",
      "Users in Cluster 12 ->  1\n",
      "Users in Cluster 13 ->  1\n",
      "Users in Cluster 14 ->  1\n"
     ]
    }
   ],
   "source": [
    "for i in range(15):\n",
    "    len_users = users_cluster[users_cluster['Cluster'] == i].shape[0]\n",
    "    print('Users in Cluster ' + str(i) + ' -> ', len_users)"
   ]
  },
  {
   "cell_type": "markdown",
   "metadata": {},
   "source": [
    "As, we can see that there are some clusters which contain only 1 user or 2 or 5. As we don't want such small cluster where we can't recommend enough movies to users. As the user in a cluster of size one will not get any recommendation for movies OR even user in size of cluster 2 will not get enough recommendations. So, we have to fix such small clusters."
   ]
  },
  {
   "cell_type": "markdown",
   "metadata": {},
   "source": [
    "### Fixing Small Clusters"
   ]
  },
  {
   "cell_type": "markdown",
   "metadata": {},
   "source": [
    "Since, there are many clusters which includes less number of users. So we don't want any user in a cluster alone and let say we want at least 6 users in each cluster. So we have to move users from small cluster into a large cluster which contain more relavant movies to user"
   ]
  },
  {
   "cell_type": "markdown",
   "metadata": {},
   "source": [
    "First of all we'll write a function to get user favourite movies list"
   ]
  },
  {
   "cell_type": "code",
   "execution_count": 33,
   "metadata": {},
   "outputs": [],
   "source": [
    "def getMoviesOfUser(user_id, users_data):\n",
    "    return list(users_data[users_data['userId'] == user_id]['movieId'])"
   ]
  },
  {
   "cell_type": "markdown",
   "metadata": {},
   "source": [
    "Now, we'll define a function for fixing clusters "
   ]
  },
  {
   "cell_type": "code",
   "execution_count": 34,
   "metadata": {},
   "outputs": [],
   "source": [
    "def fixClusters(clusters_movies_dataframes, users_cluster_dataframe, users_data, smallest_cluster_size = 11):\n",
    "    # clusters_movies_dataframes: will be a list which will contain each dataframes of each cluster movies\n",
    "    # users_cluster_dataframe: will be a dataframe which contain users IDs and their cluster no.\n",
    "    # smallest_cluster_size: is a smallest cluster size which we want for a cluster to not remove\n",
    "    each_cluster_movies = clusters_movies_dataframes.copy()\n",
    "    users_cluster = users_cluster_dataframe.copy()\n",
    "    # Let convert dataframe in each_cluster_movies to list with containing only movies IDs\n",
    "    each_cluster_movies_list = [list(df['movieId']) for df in each_cluster_movies]\n",
    "    # First we will prepair a list which containt lists of users in each cluster -> [[Cluster 0 Users], [Cluster 1 Users], ... ,[Cluster N Users]] \n",
    "    usersInClusters = list()\n",
    "    total_clusters = len(each_cluster_movies)\n",
    "    for i in range(total_clusters):\n",
    "        usersInClusters.append(list(users_cluster[users_cluster['Cluster'] == i]['userId']))\n",
    "    uncategorizedUsers = list()\n",
    "    i = 0\n",
    "    # Now we will remove small clusters and put their users into another list named \"uncategorizedUsers\"\n",
    "    # Also when we will remove a cluster, then we have also bring back cluster numbers of users which comes after deleting cluster\n",
    "    # E.g. if we have deleted cluster 4 then their will be users whose clusters will be 5,6,7,..,N. So, we'll bring back those users cluster number to 4,5,6,...,N-1.\n",
    "    for j in range(total_clusters):\n",
    "        if len(usersInClusters[i]) < smallest_cluster_size:\n",
    "            uncategorizedUsers.extend(usersInClusters[i])\n",
    "            usersInClusters.pop(i)\n",
    "            each_cluster_movies.pop(i)\n",
    "            each_cluster_movies_list.pop(i)\n",
    "            users_cluster.loc[users_cluster['Cluster'] > i, 'Cluster'] -= 1\n",
    "            i -= 1\n",
    "        i += 1\n",
    "    for user in uncategorizedUsers:\n",
    "        elemProbability = list()\n",
    "        user_movies = getMoviesOfUser(user, users_data)\n",
    "        if len(user_movies) == 0:\n",
    "            print(user)\n",
    "        user_missed_movies = list()\n",
    "        for movies_list in each_cluster_movies_list:\n",
    "            count = 0\n",
    "            missed_movies = list()\n",
    "            for movie in user_movies:\n",
    "                if movie in movies_list:\n",
    "                    count += 1\n",
    "                else:\n",
    "                    missed_movies.append(movie)\n",
    "            elemProbability.append(count / len(user_movies))\n",
    "            user_missed_movies.append(missed_movies)\n",
    "        user_new_cluster = np.array(elemProbability).argmax()\n",
    "        users_cluster.loc[users_cluster['userId'] == user, 'Cluster'] = user_new_cluster\n",
    "        if len(user_missed_movies[user_new_cluster]) > 0:\n",
    "            each_cluster_movies[user_new_cluster] = each_cluster_movies[user_new_cluster].append([{'movieId': new_movie, 'Count': 1} for new_movie in user_missed_movies[user_new_cluster]], ignore_index = True)\n",
    "    return each_cluster_movies, users_cluster\n"
   ]
  },
  {
   "cell_type": "code",
   "execution_count": 35,
   "metadata": {
    "scrolled": true
   },
   "outputs": [],
   "source": [
    "movies_df_fixed, clusters_fixed = fixClusters(cluster_movies, users_cluster, users_fav_movies, smallest_cluster_size = 6)"
   ]
  },
  {
   "cell_type": "markdown",
   "metadata": {},
   "source": [
    "Now take a look at data which we were had before and data after fixing"
   ]
  },
  {
   "cell_type": "markdown",
   "metadata": {},
   "source": [
    "First we'll print those clusters which contain maximum 5 users"
   ]
  },
  {
   "cell_type": "code",
   "execution_count": 36,
   "metadata": {},
   "outputs": [
    {
     "name": "stdout",
     "output_type": "stream",
     "text": [
      "Users in Cluster 2 ->  1\n",
      "Users in Cluster 3 ->  5\n",
      "Users in Cluster 5 ->  1\n",
      "Users in Cluster 7 ->  2\n",
      "Users in Cluster 8 ->  1\n",
      "Users in Cluster 9 ->  1\n",
      "Users in Cluster 10 ->  1\n",
      "Users in Cluster 12 ->  1\n",
      "Users in Cluster 13 ->  1\n",
      "Users in Cluster 14 ->  1\n",
      "Total Cluster which we want to remove ->  10\n"
     ]
    }
   ],
   "source": [
    "j = 0\n",
    "for i in range(15):\n",
    "    len_users = users_cluster[users_cluster['Cluster'] == i].shape[0]\n",
    "    if len_users < 6:\n",
    "        print('Users in Cluster ' + str(i) + ' -> ', len_users)\n",
    "        j += 1\n",
    "print('Total Cluster which we want to remove -> ', j)"
   ]
  },
  {
   "cell_type": "markdown",
   "metadata": {},
   "source": [
    "Now look at the users cluster data frame"
   ]
  },
  {
   "cell_type": "code",
   "execution_count": 37,
   "metadata": {},
   "outputs": [
    {
     "name": "stdout",
     "output_type": "stream",
     "text": [
      "Length of total clusters before fixing is ->  15\n",
      "Max value in users_cluster dataframe column Cluster is ->  14\n",
      "And dataframe is following\n"
     ]
    },
    {
     "data": {
      "text/html": [
       "<div>\n",
       "<style scoped>\n",
       "    .dataframe tbody tr th:only-of-type {\n",
       "        vertical-align: middle;\n",
       "    }\n",
       "\n",
       "    .dataframe tbody tr th {\n",
       "        vertical-align: top;\n",
       "    }\n",
       "\n",
       "    .dataframe thead th {\n",
       "        text-align: right;\n",
       "    }\n",
       "</style>\n",
       "<table border=\"1\" class=\"dataframe\">\n",
       "  <thead>\n",
       "    <tr style=\"text-align: right;\">\n",
       "      <th></th>\n",
       "      <th>0</th>\n",
       "      <th>1</th>\n",
       "      <th>2</th>\n",
       "      <th>3</th>\n",
       "      <th>4</th>\n",
       "      <th>5</th>\n",
       "      <th>6</th>\n",
       "      <th>7</th>\n",
       "      <th>8</th>\n",
       "      <th>9</th>\n",
       "      <th>...</th>\n",
       "      <th>90</th>\n",
       "      <th>91</th>\n",
       "      <th>92</th>\n",
       "      <th>93</th>\n",
       "      <th>94</th>\n",
       "      <th>95</th>\n",
       "      <th>96</th>\n",
       "      <th>97</th>\n",
       "      <th>98</th>\n",
       "      <th>99</th>\n",
       "    </tr>\n",
       "  </thead>\n",
       "  <tbody>\n",
       "    <tr>\n",
       "      <td>userId</td>\n",
       "      <td>1</td>\n",
       "      <td>2</td>\n",
       "      <td>8</td>\n",
       "      <td>9</td>\n",
       "      <td>10</td>\n",
       "      <td>11</td>\n",
       "      <td>12</td>\n",
       "      <td>15</td>\n",
       "      <td>16</td>\n",
       "      <td>18</td>\n",
       "      <td>...</td>\n",
       "      <td>134</td>\n",
       "      <td>137</td>\n",
       "      <td>142</td>\n",
       "      <td>146</td>\n",
       "      <td>150</td>\n",
       "      <td>151</td>\n",
       "      <td>153</td>\n",
       "      <td>155</td>\n",
       "      <td>156</td>\n",
       "      <td>157</td>\n",
       "    </tr>\n",
       "    <tr>\n",
       "      <td>Cluster</td>\n",
       "      <td>0</td>\n",
       "      <td>0</td>\n",
       "      <td>1</td>\n",
       "      <td>1</td>\n",
       "      <td>4</td>\n",
       "      <td>0</td>\n",
       "      <td>14</td>\n",
       "      <td>0</td>\n",
       "      <td>3</td>\n",
       "      <td>0</td>\n",
       "      <td>...</td>\n",
       "      <td>0</td>\n",
       "      <td>0</td>\n",
       "      <td>3</td>\n",
       "      <td>0</td>\n",
       "      <td>5</td>\n",
       "      <td>0</td>\n",
       "      <td>1</td>\n",
       "      <td>11</td>\n",
       "      <td>7</td>\n",
       "      <td>0</td>\n",
       "    </tr>\n",
       "  </tbody>\n",
       "</table>\n",
       "<p>2 rows × 100 columns</p>\n",
       "</div>"
      ],
      "text/plain": [
       "         0   1   2   3   4   5   6   7   8   9   ...   90   91   92   93   94  \\\n",
       "userId    1   2   8   9  10  11  12  15  16  18  ...  134  137  142  146  150   \n",
       "Cluster   0   0   1   1   4   0  14   0   3   0  ...    0    0    3    0    5   \n",
       "\n",
       "          95   96   97   98   99  \n",
       "userId   151  153  155  156  157  \n",
       "Cluster    0    1   11    7    0  \n",
       "\n",
       "[2 rows x 100 columns]"
      ]
     },
     "execution_count": 37,
     "metadata": {},
     "output_type": "execute_result"
    }
   ],
   "source": [
    "print('Length of total clusters before fixing is -> ', len(cluster_movies))\n",
    "print('Max value in users_cluster dataframe column Cluster is -> ', users_cluster['Cluster'].max())\n",
    "print('And dataframe is following')\n",
    "users_cluster.T"
   ]
  },
  {
   "cell_type": "markdown",
   "metadata": {},
   "source": [
    "So, we want max value in **Cluster** column is 4 starting from index 0, as we'll remove 10 smallest clusters and we'll have 5 remaining clusters"
   ]
  },
  {
   "cell_type": "markdown",
   "metadata": {},
   "source": [
    "Now, let see what happend after fixing data."
   ]
  },
  {
   "cell_type": "markdown",
   "metadata": {},
   "source": [
    "We want to remove all those 10 small clusters and also the users_cluster dataframe shouldn't contain any user clusters which is invalid."
   ]
  },
  {
   "cell_type": "code",
   "execution_count": 38,
   "metadata": {},
   "outputs": [
    {
     "name": "stdout",
     "output_type": "stream",
     "text": [
      "Length of total clusters after fixing is ->  5\n",
      "Max value in users_cluster dataframe column Cluster is ->  4\n",
      "And fixed dataframe is following\n"
     ]
    },
    {
     "data": {
      "text/html": [
       "<div>\n",
       "<style scoped>\n",
       "    .dataframe tbody tr th:only-of-type {\n",
       "        vertical-align: middle;\n",
       "    }\n",
       "\n",
       "    .dataframe tbody tr th {\n",
       "        vertical-align: top;\n",
       "    }\n",
       "\n",
       "    .dataframe thead th {\n",
       "        text-align: right;\n",
       "    }\n",
       "</style>\n",
       "<table border=\"1\" class=\"dataframe\">\n",
       "  <thead>\n",
       "    <tr style=\"text-align: right;\">\n",
       "      <th></th>\n",
       "      <th>0</th>\n",
       "      <th>1</th>\n",
       "      <th>2</th>\n",
       "      <th>3</th>\n",
       "      <th>4</th>\n",
       "      <th>5</th>\n",
       "      <th>6</th>\n",
       "      <th>7</th>\n",
       "      <th>8</th>\n",
       "      <th>9</th>\n",
       "      <th>...</th>\n",
       "      <th>90</th>\n",
       "      <th>91</th>\n",
       "      <th>92</th>\n",
       "      <th>93</th>\n",
       "      <th>94</th>\n",
       "      <th>95</th>\n",
       "      <th>96</th>\n",
       "      <th>97</th>\n",
       "      <th>98</th>\n",
       "      <th>99</th>\n",
       "    </tr>\n",
       "  </thead>\n",
       "  <tbody>\n",
       "    <tr>\n",
       "      <td>userId</td>\n",
       "      <td>1</td>\n",
       "      <td>2</td>\n",
       "      <td>8</td>\n",
       "      <td>9</td>\n",
       "      <td>10</td>\n",
       "      <td>11</td>\n",
       "      <td>12</td>\n",
       "      <td>15</td>\n",
       "      <td>16</td>\n",
       "      <td>18</td>\n",
       "      <td>...</td>\n",
       "      <td>134</td>\n",
       "      <td>137</td>\n",
       "      <td>142</td>\n",
       "      <td>146</td>\n",
       "      <td>150</td>\n",
       "      <td>151</td>\n",
       "      <td>153</td>\n",
       "      <td>155</td>\n",
       "      <td>156</td>\n",
       "      <td>157</td>\n",
       "    </tr>\n",
       "    <tr>\n",
       "      <td>Cluster</td>\n",
       "      <td>0</td>\n",
       "      <td>0</td>\n",
       "      <td>1</td>\n",
       "      <td>1</td>\n",
       "      <td>2</td>\n",
       "      <td>0</td>\n",
       "      <td>3</td>\n",
       "      <td>0</td>\n",
       "      <td>1</td>\n",
       "      <td>0</td>\n",
       "      <td>...</td>\n",
       "      <td>0</td>\n",
       "      <td>0</td>\n",
       "      <td>0</td>\n",
       "      <td>0</td>\n",
       "      <td>0</td>\n",
       "      <td>0</td>\n",
       "      <td>1</td>\n",
       "      <td>4</td>\n",
       "      <td>0</td>\n",
       "      <td>0</td>\n",
       "    </tr>\n",
       "  </tbody>\n",
       "</table>\n",
       "<p>2 rows × 100 columns</p>\n",
       "</div>"
      ],
      "text/plain": [
       "         0   1   2   3   4   5   6   7   8   9   ...   90   91   92   93   94  \\\n",
       "userId    1   2   8   9  10  11  12  15  16  18  ...  134  137  142  146  150   \n",
       "Cluster   0   0   1   1   2   0   3   0   1   0  ...    0    0    0    0    0   \n",
       "\n",
       "          95   96   97   98   99  \n",
       "userId   151  153  155  156  157  \n",
       "Cluster    0    1    4    0    0  \n",
       "\n",
       "[2 rows x 100 columns]"
      ]
     },
     "execution_count": 38,
     "metadata": {},
     "output_type": "execute_result"
    }
   ],
   "source": [
    "print('Length of total clusters after fixing is -> ', len(movies_df_fixed))\n",
    "print('Max value in users_cluster dataframe column Cluster is -> ', clusters_fixed['Cluster'].max())\n",
    "print('And fixed dataframe is following')\n",
    "clusters_fixed.T"
   ]
  },
  {
   "cell_type": "markdown",
   "metadata": {},
   "source": [
    "Now let see what happend when 10 clusters were deleted and how the remaining users clusters were adjusted which were already in large clusters."
   ]
  },
  {
   "cell_type": "markdown",
   "metadata": {},
   "source": [
    "Let take a look at anyone 11th cluster user. Since 11th cluster was already containing enough users i.e. 11 users and we were not want to delete that, but as now we only have max 5 cluster and max value of cluster column is 4, so what actually happend to 11 cluster. As there are 7 clusters before cluster no. 11 which were small and removed, so the value 11 now should be bring back to 4."
   ]
  },
  {
   "cell_type": "code",
   "execution_count": 39,
   "metadata": {},
   "outputs": [
    {
     "name": "stdout",
     "output_type": "stream",
     "text": [
      "Users cluster dataFrame for cluster 11 before fixing:\n"
     ]
    },
    {
     "data": {
      "text/html": [
       "<div>\n",
       "<style scoped>\n",
       "    .dataframe tbody tr th:only-of-type {\n",
       "        vertical-align: middle;\n",
       "    }\n",
       "\n",
       "    .dataframe tbody tr th {\n",
       "        vertical-align: top;\n",
       "    }\n",
       "\n",
       "    .dataframe thead th {\n",
       "        text-align: right;\n",
       "    }\n",
       "</style>\n",
       "<table border=\"1\" class=\"dataframe\">\n",
       "  <thead>\n",
       "    <tr style=\"text-align: right;\">\n",
       "      <th></th>\n",
       "      <th>31</th>\n",
       "      <th>36</th>\n",
       "      <th>47</th>\n",
       "      <th>55</th>\n",
       "      <th>56</th>\n",
       "      <th>60</th>\n",
       "      <th>66</th>\n",
       "      <th>80</th>\n",
       "      <th>82</th>\n",
       "      <th>89</th>\n",
       "      <th>97</th>\n",
       "    </tr>\n",
       "  </thead>\n",
       "  <tbody>\n",
       "    <tr>\n",
       "      <td>userId</td>\n",
       "      <td>52</td>\n",
       "      <td>58</td>\n",
       "      <td>71</td>\n",
       "      <td>82</td>\n",
       "      <td>83</td>\n",
       "      <td>89</td>\n",
       "      <td>99</td>\n",
       "      <td>120</td>\n",
       "      <td>125</td>\n",
       "      <td>133</td>\n",
       "      <td>155</td>\n",
       "    </tr>\n",
       "    <tr>\n",
       "      <td>Cluster</td>\n",
       "      <td>11</td>\n",
       "      <td>11</td>\n",
       "      <td>11</td>\n",
       "      <td>11</td>\n",
       "      <td>11</td>\n",
       "      <td>11</td>\n",
       "      <td>11</td>\n",
       "      <td>11</td>\n",
       "      <td>11</td>\n",
       "      <td>11</td>\n",
       "      <td>11</td>\n",
       "    </tr>\n",
       "  </tbody>\n",
       "</table>\n",
       "</div>"
      ],
      "text/plain": [
       "         31  36  47  55  56  60  66   80   82   89   97\n",
       "userId   52  58  71  82  83  89  99  120  125  133  155\n",
       "Cluster  11  11  11  11  11  11  11   11   11   11   11"
      ]
     },
     "execution_count": 39,
     "metadata": {},
     "output_type": "execute_result"
    }
   ],
   "source": [
    "print('Users cluster dataFrame for cluster 11 before fixing:')\n",
    "users_cluster[users_cluster['Cluster'] == 11].T"
   ]
  },
  {
   "cell_type": "markdown",
   "metadata": {},
   "source": [
    "Now let look at the cluster 4 after fixing"
   ]
  },
  {
   "cell_type": "code",
   "execution_count": 40,
   "metadata": {},
   "outputs": [
    {
     "name": "stdout",
     "output_type": "stream",
     "text": [
      "Users cluster dataFrame for cluster 4 after fixing which should be same as 11th cluster before fixing:\n"
     ]
    },
    {
     "data": {
      "text/html": [
       "<div>\n",
       "<style scoped>\n",
       "    .dataframe tbody tr th:only-of-type {\n",
       "        vertical-align: middle;\n",
       "    }\n",
       "\n",
       "    .dataframe tbody tr th {\n",
       "        vertical-align: top;\n",
       "    }\n",
       "\n",
       "    .dataframe thead th {\n",
       "        text-align: right;\n",
       "    }\n",
       "</style>\n",
       "<table border=\"1\" class=\"dataframe\">\n",
       "  <thead>\n",
       "    <tr style=\"text-align: right;\">\n",
       "      <th></th>\n",
       "      <th>31</th>\n",
       "      <th>36</th>\n",
       "      <th>47</th>\n",
       "      <th>55</th>\n",
       "      <th>56</th>\n",
       "      <th>60</th>\n",
       "      <th>66</th>\n",
       "      <th>80</th>\n",
       "      <th>82</th>\n",
       "      <th>89</th>\n",
       "      <th>97</th>\n",
       "    </tr>\n",
       "  </thead>\n",
       "  <tbody>\n",
       "    <tr>\n",
       "      <td>userId</td>\n",
       "      <td>52</td>\n",
       "      <td>58</td>\n",
       "      <td>71</td>\n",
       "      <td>82</td>\n",
       "      <td>83</td>\n",
       "      <td>89</td>\n",
       "      <td>99</td>\n",
       "      <td>120</td>\n",
       "      <td>125</td>\n",
       "      <td>133</td>\n",
       "      <td>155</td>\n",
       "    </tr>\n",
       "    <tr>\n",
       "      <td>Cluster</td>\n",
       "      <td>4</td>\n",
       "      <td>4</td>\n",
       "      <td>4</td>\n",
       "      <td>4</td>\n",
       "      <td>4</td>\n",
       "      <td>4</td>\n",
       "      <td>4</td>\n",
       "      <td>4</td>\n",
       "      <td>4</td>\n",
       "      <td>4</td>\n",
       "      <td>4</td>\n",
       "    </tr>\n",
       "  </tbody>\n",
       "</table>\n",
       "</div>"
      ],
      "text/plain": [
       "         31  36  47  55  56  60  66   80   82   89   97\n",
       "userId   52  58  71  82  83  89  99  120  125  133  155\n",
       "Cluster   4   4   4   4   4   4   4    4    4    4    4"
      ]
     },
     "execution_count": 40,
     "metadata": {},
     "output_type": "execute_result"
    }
   ],
   "source": [
    "print('Users cluster dataFrame for cluster 4 after fixing which should be same as 11th cluster before fixing:')\n",
    "clusters_fixed[clusters_fixed['Cluster'] == 4].T"
   ]
  },
  {
   "cell_type": "markdown",
   "metadata": {},
   "source": [
    "Both dataframe are containing same user IDs, So we don't disturbed any cluster and similiary we do same with list of movies dataframes for each cluster"
   ]
  },
  {
   "cell_type": "markdown",
   "metadata": {},
   "source": [
    "Now let take a look at list of movies dataframes"
   ]
  },
  {
   "cell_type": "code",
   "execution_count": 41,
   "metadata": {},
   "outputs": [
    {
     "name": "stdout",
     "output_type": "stream",
     "text": [
      "Size of movies dataframe after fixing ->  5\n"
     ]
    }
   ],
   "source": [
    "print('Size of movies dataframe after fixing -> ', len(movies_df_fixed))"
   ]
  },
  {
   "cell_type": "markdown",
   "metadata": {},
   "source": [
    "Now, lets look at the sizes of clusters"
   ]
  },
  {
   "cell_type": "code",
   "execution_count": 42,
   "metadata": {},
   "outputs": [
    {
     "name": "stdout",
     "output_type": "stream",
     "text": [
      "Users in Cluster 0 ->  45\n",
      "Users in Cluster 1 ->  21\n",
      "Users in Cluster 2 ->  8\n",
      "Users in Cluster 3 ->  15\n",
      "Users in Cluster 4 ->  11\n"
     ]
    }
   ],
   "source": [
    "for i in range(len(movies_df_fixed)):\n",
    "    len_users = clusters_fixed[clusters_fixed['Cluster'] == i].shape[0]\n",
    "    print('Users in Cluster ' + str(i) + ' -> ', len_users)"
   ]
  },
  {
   "cell_type": "markdown",
   "metadata": {},
   "source": [
    "Each cluster is now containing enough users so that we can make recommendations for other users. Let take a look at each size of clusters movies list."
   ]
  },
  {
   "cell_type": "code",
   "execution_count": 43,
   "metadata": {},
   "outputs": [
    {
     "name": "stdout",
     "output_type": "stream",
     "text": [
      "Total movies in Cluster 0 ->  64\n",
      "Total movies in Cluster 1 ->  39\n",
      "Total movies in Cluster 2 ->  15\n",
      "Total movies in Cluster 3 ->  50\n",
      "Total movies in Cluster 4 ->  25\n"
     ]
    }
   ],
   "source": [
    "for i in range(len(movies_df_fixed)):\n",
    "    print('Total movies in Cluster ' + str(i) + ' -> ', movies_df_fixed[i].shape[0])"
   ]
  },
  {
   "cell_type": "markdown",
   "metadata": {},
   "source": [
    "As, we have done working with training machine learning model k-means, making predictions of clusters for each user and fixing some issues. Finally, we need to store this training so that we can use it later. For this, we will **Pickle** liabrary to save and load trainings. We have already imported Pickle, now we will use it."
   ]
  },
  {
   "cell_type": "markdown",
   "metadata": {},
   "source": [
    "Let me first design object to save and load trainings. We will directly design methods for saving/loading particular files and also we will design general save/load methods"
   ]
  },
  {
   "cell_type": "code",
   "execution_count": 44,
   "metadata": {},
   "outputs": [],
   "source": [
    "class saveLoadFiles:\n",
    "    def save(self, filename, data):\n",
    "        try:\n",
    "            file = open('datasets/' + filename + '.pkl', 'wb')\n",
    "            pickle.dump(data, file)\n",
    "        except:\n",
    "            err = 'Error: {0}, {1}'.format(exc_info()[0], exc_info()[1])\n",
    "            print(err)\n",
    "            file.close()\n",
    "            return [False, err]\n",
    "        else:\n",
    "            file.close()\n",
    "            return [True]\n",
    "    def load(self, filename):\n",
    "        try:\n",
    "            file = open('datasets/' + filename + '.pkl', 'rb')\n",
    "        except:\n",
    "            err = 'Error: {0}, {1}'.format(exc_info()[0], exc_info()[1])\n",
    "            print(err)\n",
    "            file.close()\n",
    "            return [False, err]\n",
    "        else:\n",
    "            data = pickle.load(file)\n",
    "            file.close()\n",
    "            return data\n",
    "    def loadClusterMoviesDataset(self):\n",
    "        return self.load('clusters_movies_dataset')\n",
    "    def saveClusterMoviesDataset(self, data):\n",
    "        return self.save('clusters_movies_dataset', data)\n",
    "    def loadUsersClusters(self):\n",
    "        return self.load('users_clusters')\n",
    "    def saveUsersClusters(self, data):\n",
    "        return self.save('users_clusters', data)"
   ]
  },
  {
   "cell_type": "markdown",
   "metadata": {},
   "source": [
    "In above class, **exc_info** imported from **sys** liabrary for error handling and error writings."
   ]
  },
  {
   "cell_type": "markdown",
   "metadata": {},
   "source": [
    "We will use **saveClusterMoviesDataset/loadClusterMoviesDataset** methods to save/load list of clusters movies dataframes and **saveUsersClusters/loadUsersClusters** methods to save/load users clusters dataframes. Now, lets try it. We will run and print responses in order to check if any error comes. If it return True then its mean our files has been saved in proper place."
   ]
  },
  {
   "cell_type": "code",
   "execution_count": 45,
   "metadata": {},
   "outputs": [
    {
     "name": "stdout",
     "output_type": "stream",
     "text": [
      "[True]\n",
      "[True]\n"
     ]
    }
   ],
   "source": [
    "saveLoadFile = saveLoadFiles()\n",
    "print(saveLoadFile.saveClusterMoviesDataset(movies_df_fixed))\n",
    "print(saveLoadFile.saveUsersClusters(clusters_fixed))"
   ]
  },
  {
   "cell_type": "markdown",
   "metadata": {},
   "source": [
    "As reponse is True for both save methods. Our trained data has now saved and we can use it later. Let check it if we can load it."
   ]
  },
  {
   "cell_type": "code",
   "execution_count": 46,
   "metadata": {},
   "outputs": [
    {
     "name": "stdout",
     "output_type": "stream",
     "text": [
      "Type of Loading list of Movies dataframes of 5 Clusters:  <class 'list'>  and Length is:  5\n",
      "Type of Loading 100 Users clusters Data:  <class 'pandas.core.frame.DataFrame'>  and Shape is:  (100, 2)\n"
     ]
    }
   ],
   "source": [
    "load_movies_list, load_users_clusters = saveLoadFile.loadClusterMoviesDataset(), saveLoadFile.loadUsersClusters()\n",
    "print('Type of Loading list of Movies dataframes of 5 Clusters: ', type(load_movies_list), ' and Length is: ', len(load_movies_list))\n",
    "print('Type of Loading 100 Users clusters Data: ', type(load_users_clusters), ' and Shape is: ', load_users_clusters.shape)"
   ]
  },
  {
   "cell_type": "markdown",
   "metadata": {},
   "source": [
    "We have successfully saved and loaded our data by using pickle liabrary."
   ]
  },
  {
   "cell_type": "markdown",
   "metadata": {},
   "source": [
    "As we worked for very small dataset. But often movies recommendation systems works with very large datasets and there we'll have enough movies in each cluster to make recommendations. \n",
    "\n",
    "Now, we need to design functions for making recommendations to users."
   ]
  },
  {
   "cell_type": "markdown",
   "metadata": {},
   "source": [
    "## Recommendations For Users"
   ]
  },
  {
   "cell_type": "markdown",
   "metadata": {},
   "source": [
    "Now here we'll create an object for recommending most favourited movies in the cluster to the user which user has not watched earlier. And also when any user has added another movie in his favourite list, then we have to update clusters movies datasets also."
   ]
  },
  {
   "cell_type": "code",
   "execution_count": 47,
   "metadata": {},
   "outputs": [],
   "source": [
    "class userRequestedFor:\n",
    "    def __init__(self, user_id, users_data):\n",
    "        self.users_data = users_data.copy()\n",
    "        self.user_id = user_id\n",
    "        # Find User Cluster\n",
    "        users_cluster = saveLoadFiles().loadUsersClusters()\n",
    "        self.user_cluster = int(users_cluster[users_cluster['userId'] == self.user_id]['Cluster'])\n",
    "        # Load User Cluster Movies Dataframe\n",
    "        self.movies_list = saveLoadFiles().loadClusterMoviesDataset()\n",
    "        self.cluster_movies = self.movies_list[self.user_cluster] # dataframe\n",
    "        self.cluster_movies_list = list(self.cluster_movies['movieId']) # list\n",
    "    def updatedFavouriteMoviesList(self, new_movie_Id):\n",
    "        if new_movie_Id in self.cluster_movies_list:\n",
    "            self.cluster_movies.loc[self.cluster_movies['movieId'] == new_movie_Id, 'Count'] += 1\n",
    "        else:\n",
    "            self.cluster_movies = self.cluster_movies.append([{'movieId':new_movie_Id, 'Count': 1}], ignore_index=True)\n",
    "        self.cluster_movies.sort_values(by = ['Count'], ascending = False, inplace= True)\n",
    "        self.movies_list[self.user_cluster] = self.cluster_movies\n",
    "        saveLoadFiles().saveClusterMoviesDataset(self.movies_list)\n",
    "\n",
    "    def recommendMostFavouriteMovies(self):\n",
    "        try:\n",
    "            user_movies = getMoviesOfUser(self.user_id, self.users_data)\n",
    "            cluster_movies_list = self.cluster_movies_list.copy()\n",
    "            for user_movie in user_movies:\n",
    "                if user_movie in cluster_movies_list:\n",
    "                    cluster_movies_list.remove(user_movie)\n",
    "            return [True, cluster_movies_list]\n",
    "        except KeyError:\n",
    "            err = \"User history does not exist\"\n",
    "            print(err)\n",
    "            return [False, err]\n",
    "        except:\n",
    "            err = 'Error: {0}, {1}'.format(exc_info()[0], exc_info()[1])\n",
    "            print(err)\n",
    "            return [False, err]"
   ]
  },
  {
   "cell_type": "markdown",
   "metadata": {},
   "source": [
    "Now lets try it to make recommendations and updating favourite list request. For this, first we'll import data for not only IDs but for movies details like title, genre etc."
   ]
  },
  {
   "cell_type": "code",
   "execution_count": 48,
   "metadata": {},
   "outputs": [
    {
     "name": "stdout",
     "output_type": "stream",
     "text": [
      "Let take a look at movie metadata for all those movies which we were had in our dataset\n"
     ]
    },
    {
     "data": {
      "text/html": [
       "<div>\n",
       "<style scoped>\n",
       "    .dataframe tbody tr th:only-of-type {\n",
       "        vertical-align: middle;\n",
       "    }\n",
       "\n",
       "    .dataframe tbody tr th {\n",
       "        vertical-align: top;\n",
       "    }\n",
       "\n",
       "    .dataframe thead th {\n",
       "        text-align: right;\n",
       "    }\n",
       "</style>\n",
       "<table border=\"1\" class=\"dataframe\">\n",
       "  <thead>\n",
       "    <tr style=\"text-align: right;\">\n",
       "      <th></th>\n",
       "      <th>genres</th>\n",
       "      <th>id</th>\n",
       "      <th>original_title</th>\n",
       "    </tr>\n",
       "  </thead>\n",
       "  <tbody>\n",
       "    <tr>\n",
       "      <td>0</td>\n",
       "      <td>[{'id': 80, 'name': 'Crime'}, {'id': 35, 'name...</td>\n",
       "      <td>5</td>\n",
       "      <td>Four Rooms</td>\n",
       "    </tr>\n",
       "    <tr>\n",
       "      <td>1</td>\n",
       "      <td>[{'id': 12, 'name': 'Adventure'}, {'id': 28, '...</td>\n",
       "      <td>11</td>\n",
       "      <td>Star Wars</td>\n",
       "    </tr>\n",
       "    <tr>\n",
       "      <td>2</td>\n",
       "      <td>[{'id': 53, 'name': 'Thriller'}, {'id': 80, 'n...</td>\n",
       "      <td>101</td>\n",
       "      <td>Léon</td>\n",
       "    </tr>\n",
       "    <tr>\n",
       "      <td>3</td>\n",
       "      <td>[{'id': 18, 'name': 'Drama'}, {'id': 9648, 'na...</td>\n",
       "      <td>110</td>\n",
       "      <td>Trois couleurs : Rouge</td>\n",
       "    </tr>\n",
       "    <tr>\n",
       "      <td>4</td>\n",
       "      <td>[{'id': 28, 'name': 'Action'}, {'id': 53, 'nam...</td>\n",
       "      <td>6</td>\n",
       "      <td>Judgment Night</td>\n",
       "    </tr>\n",
       "    <tr>\n",
       "      <td>...</td>\n",
       "      <td>...</td>\n",
       "      <td>...</td>\n",
       "      <td>...</td>\n",
       "    </tr>\n",
       "    <tr>\n",
       "      <td>58</td>\n",
       "      <td>[{'id': 27, 'name': 'Horror'}, {'id': 53, 'nam...</td>\n",
       "      <td>17</td>\n",
       "      <td>The Dark</td>\n",
       "    </tr>\n",
       "    <tr>\n",
       "      <td>59</td>\n",
       "      <td>[{'id': 18, 'name': 'Drama'}, {'id': 53, 'name...</td>\n",
       "      <td>186</td>\n",
       "      <td>Lucky Number Slevin</td>\n",
       "    </tr>\n",
       "    <tr>\n",
       "      <td>60</td>\n",
       "      <td>[{'id': 12, 'name': 'Adventure'}, {'id': 14, '...</td>\n",
       "      <td>58</td>\n",
       "      <td>Pirates of the Caribbean: Dead Man's Chest</td>\n",
       "    </tr>\n",
       "    <tr>\n",
       "      <td>61</td>\n",
       "      <td>[{'id': 28, 'name': 'Action'}, {'id': 12, 'nam...</td>\n",
       "      <td>82</td>\n",
       "      <td>Miami Vice</td>\n",
       "    </tr>\n",
       "    <tr>\n",
       "      <td>62</td>\n",
       "      <td>[{'id': 18, 'name': 'Drama'}, {'id': 10749, 'n...</td>\n",
       "      <td>86</td>\n",
       "      <td>Elementarteilchen</td>\n",
       "    </tr>\n",
       "  </tbody>\n",
       "</table>\n",
       "<p>63 rows × 3 columns</p>\n",
       "</div>"
      ],
      "text/plain": [
       "                                               genres   id  \\\n",
       "0   [{'id': 80, 'name': 'Crime'}, {'id': 35, 'name...    5   \n",
       "1   [{'id': 12, 'name': 'Adventure'}, {'id': 28, '...   11   \n",
       "2   [{'id': 53, 'name': 'Thriller'}, {'id': 80, 'n...  101   \n",
       "3   [{'id': 18, 'name': 'Drama'}, {'id': 9648, 'na...  110   \n",
       "4   [{'id': 28, 'name': 'Action'}, {'id': 53, 'nam...    6   \n",
       "..                                                ...  ...   \n",
       "58  [{'id': 27, 'name': 'Horror'}, {'id': 53, 'nam...   17   \n",
       "59  [{'id': 18, 'name': 'Drama'}, {'id': 53, 'name...  186   \n",
       "60  [{'id': 12, 'name': 'Adventure'}, {'id': 14, '...   58   \n",
       "61  [{'id': 28, 'name': 'Action'}, {'id': 12, 'nam...   82   \n",
       "62  [{'id': 18, 'name': 'Drama'}, {'id': 10749, 'n...   86   \n",
       "\n",
       "                                original_title  \n",
       "0                                   Four Rooms  \n",
       "1                                    Star Wars  \n",
       "2                                         Léon  \n",
       "3                       Trois couleurs : Rouge  \n",
       "4                               Judgment Night  \n",
       "..                                         ...  \n",
       "58                                    The Dark  \n",
       "59                         Lucky Number Slevin  \n",
       "60  Pirates of the Caribbean: Dead Man's Chest  \n",
       "61                                  Miami Vice  \n",
       "62                           Elementarteilchen  \n",
       "\n",
       "[63 rows x 3 columns]"
      ]
     },
     "execution_count": 48,
     "metadata": {},
     "output_type": "execute_result"
    }
   ],
   "source": [
    "movies_metadata = pd.read_csv(\n",
    "    './Prepairing Data/From Data/movies_metadata.csv', \n",
    "    usecols = ['id', 'genres', 'original_title'])\n",
    "\n",
    "movies_metadata = movies_metadata.loc[\n",
    "    movies_metadata['id'].isin(list(map(str, np.unique(users_fav_movies['movieId']))))].reset_index(drop=True)\n",
    "print('Let take a look at movie metadata for all those movies which we were had in our dataset')\n",
    "movies_metadata"
   ]
  },
  {
   "cell_type": "markdown",
   "metadata": {},
   "source": [
    "Here is the list of movies which user with ID 12 has added into its favourite movies"
   ]
  },
  {
   "cell_type": "code",
   "execution_count": 49,
   "metadata": {},
   "outputs": [
    {
     "name": "stdout",
     "output_type": "stream",
     "text": [
      "Movie title:  ['Dancer in the Dark'] , Genres: [Drama , Crime , Music , \b\b]\n",
      "Movie title:  ['The Dark'] , Genres: [Horror , Thriller , Mystery , \b\b]\n",
      "Movie title:  ['Miami Vice'] , Genres: [Action , Adventure , Crime , Thriller , \b\b]\n",
      "Movie title:  ['Tron'] , Genres: [Science Fiction , Action , Adventure , \b\b]\n",
      "Movie title:  ['The Lord of the Rings'] , Genres: [Fantasy , Drama , Animation , Adventure , \b\b]\n",
      "Movie title:  ['48 Hrs.'] , Genres: [Thriller , Action , Comedy , Crime , Drama , \b\b]\n",
      "Movie title:  ['Edward Scissorhands'] , Genres: [Fantasy , Drama , Romance , \b\b]\n",
      "Movie title:  ['Le Grand Bleu'] , Genres: [Adventure , Drama , Romance , \b\b]\n",
      "Movie title:  ['Saw'] , Genres: [Horror , Mystery , Crime , \b\b]\n",
      "Movie title:  [\"Le fabuleux destin d'Amélie Poulain\"] , Genres: [Comedy , Romance , \b\b]\n"
     ]
    }
   ],
   "source": [
    "user12Movies = getMoviesOfUser(12, users_fav_movies)\n",
    "for movie in user12Movies:\n",
    "    title = list(movies_metadata.loc[movies_metadata['id'] == str(movie)]['original_title'])\n",
    "    if title != []:\n",
    "        print('Movie title: ', title, ', Genres: [', end = '')\n",
    "        genres = ast.literal_eval(movies_metadata.loc[movies_metadata['id'] == str(movie)]['genres'].values[0].split('[')[1].split(']')[0])\n",
    "        for genre in genres:\n",
    "            print(genre['name'], ', ', end = '')\n",
    "        print(end = '\\b\\b]')\n",
    "        print('')"
   ]
  },
  {
   "cell_type": "markdown",
   "metadata": {},
   "source": [
    "And finally these are the top 10 recommended movies for that user"
   ]
  },
  {
   "cell_type": "code",
   "execution_count": 50,
   "metadata": {
    "scrolled": false
   },
   "outputs": [
    {
     "name": "stdout",
     "output_type": "stream",
     "text": [
      "Movie title:  ['Trois couleurs : Rouge'] , Genres: [Drama , Mystery , Romance , ]\n",
      "Movie title:  [\"Ocean's Eleven\"] , Genres: [Thriller , Crime , ]\n",
      "Movie title:  ['Judgment Night'] , Genres: [Action , Thriller , Crime , ]\n",
      "Movie title:  ['Scarface'] , Genres: [Action , Crime , Drama , Thriller , ]\n",
      "Movie title:  ['Back to the Future Part II'] , Genres: [Adventure , Comedy , Family , Science Fiction , ]\n",
      "Movie title:  [\"Ocean's Twelve\"] , Genres: [Thriller , Crime , ]\n",
      "Movie title:  ['To Be or Not to Be'] , Genres: [Comedy , War , ]\n",
      "Movie title:  ['Back to the Future Part III'] , Genres: [Adventure , Comedy , Family , Science Fiction , ]\n",
      "Movie title:  ['A Clockwork Orange'] , Genres: [Science Fiction , Drama , ]\n",
      "Movie title:  ['Minority Report'] , Genres: [Action , Thriller , Science Fiction , Mystery , ]\n"
     ]
    }
   ],
   "source": [
    "user12Recommendations = userRequestedFor(12, users_fav_movies).recommendMostFavouriteMovies()[1]\n",
    "for movie in user12Recommendations[:15]:\n",
    "    title = list(movies_metadata.loc[movies_metadata['id'] == str(movie)]['original_title'])\n",
    "    if title != []:\n",
    "        print('Movie title: ', title, ', Genres: [', end = '')\n",
    "        genres = ast.literal_eval(movies_metadata.loc[movies_metadata['id'] == str(movie)]['genres'].values[0].split('[')[1].split(']')[0])\n",
    "        for genre in genres:\n",
    "            print(genre['name'], ', ', end = '')\n",
    "        print(']', end = '')\n",
    "        print()\n",
    "            "
   ]
  },
  {
   "cell_type": "markdown",
   "metadata": {},
   "source": [
    "<p style=\"font-size: 30px\"> You're Done</p>\n",
    "<br>\n",
    "<p>Thanks for reading this article. If you want this whole project then please visit my github liabrary <a href=\"https://github.com/asdkazmi/AI-Movies-Recommendation-System-K-Means-Clustering\" style=\"font-weight: bold\" target='_blank'>AI Movies Recommendation System Based on K-means Clustering Algorithm</a>.</p>"
   ]
  },
  {
   "cell_type": "code",
   "execution_count": null,
   "metadata": {},
   "outputs": [],
   "source": []
  }
 ],
 "metadata": {
  "colab": {
   "name": "AI Movies Recommendation System with Clustering Based K-Means Algorithm.ipynb",
   "provenance": [],
   "toc_visible": true
  },
  "kernelspec": {
   "display_name": "Python 3",
   "language": "python",
   "name": "python3"
  },
  "language_info": {
   "codemirror_mode": {
    "name": "ipython",
    "version": 3
   },
   "file_extension": ".py",
   "mimetype": "text/x-python",
   "name": "python",
   "nbconvert_exporter": "python",
   "pygments_lexer": "ipython3",
   "version": "3.7.4"
  }
 },
 "nbformat": 4,
 "nbformat_minor": 1
}
